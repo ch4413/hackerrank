{
 "cells": [
  {
   "cell_type": "markdown",
   "metadata": {},
   "source": [
    "### Read File"
   ]
  },
  {
   "cell_type": "code",
   "execution_count": 48,
   "metadata": {},
   "outputs": [],
   "source": [
    "def file2list(fp):\n",
    "    with open(fp) as f:\n",
    "        list_ = f.readlines()\n",
    "    cleaned_file = [x.strip('\\n') for x in list_]\n",
    "    cc = [list(x) for x in cleaned_file]\n",
    "    return(cc)"
   ]
  },
  {
   "cell_type": "markdown",
   "metadata": {},
   "source": [
    "### Bring in Grids"
   ]
  },
  {
   "cell_type": "code",
   "execution_count": 49,
   "metadata": {},
   "outputs": [
    {
     "data": {
      "text/plain": [
       "[['-', '-', '-'], ['-', 'm', '-'], ['p', '-', '-']]"
      ]
     },
     "execution_count": 49,
     "metadata": {},
     "output_type": "execute_result"
    }
   ],
   "source": [
    "a = file2list('/Users/chughes/Documents/DS/botsavesprincess.txt')\n",
    "grid = a[1:]\n",
    "grid"
   ]
  },
  {
   "cell_type": "code",
   "execution_count": 50,
   "metadata": {},
   "outputs": [
    {
     "data": {
      "text/plain": [
       "[['-', '-', '-', '-', '-'],\n",
       " ['-', 'm', '-', '-', '-'],\n",
       " ['-', '-', '-', '-', '-'],\n",
       " ['-', 'p', '-', '-', '-'],\n",
       " ['-', '-', '-', '-', '-']]"
      ]
     },
     "execution_count": 50,
     "metadata": {},
     "output_type": "execute_result"
    }
   ],
   "source": [
    "grid = [['-', '-', '-','-', '-'], ['-', 'm', '-','-','-'], ['-', '-', '-','-', '-'], ['-', 'p', '-','-', '-'], ['-', '-', '-','-', '-']]\n",
    "grid"
   ]
  },
  {
   "cell_type": "code",
   "execution_count": 51,
   "metadata": {},
   "outputs": [],
   "source": [
    "def find_value(grid, value):\n",
    "    for i in range(len(grid)):\n",
    "        for j in range(len(grid)):\n",
    "            if grid[i][j] == value:\n",
    "                return({value :[i,j]})\n",
    "            else:\n",
    "                pass"
   ]
  },
  {
   "cell_type": "markdown",
   "metadata": {},
   "source": [
    "### Find & Measure"
   ]
  },
  {
   "cell_type": "code",
   "execution_count": 52,
   "metadata": {},
   "outputs": [],
   "source": [
    "m = find_value(grid=grid,value='m')\n",
    "p = find_value(grid=grid,value='p')\n",
    "\n",
    "uodd = m['m'][0] - p['p'][0]\n",
    "lord = m['m'][1] - p['p'][1]"
   ]
  },
  {
   "cell_type": "code",
   "execution_count": 53,
   "metadata": {},
   "outputs": [],
   "source": [
    "def lor(left_or_right):\n",
    "    if (left_or_right > 0):\n",
    "        lor = 'LEFT'\n",
    "    elif (left_or_right < 0):\n",
    "        lor = 'RIGHT'\n",
    "    else:\n",
    "        lor = ''\n",
    "    return(lor)"
   ]
  },
  {
   "cell_type": "code",
   "execution_count": 54,
   "metadata": {},
   "outputs": [],
   "source": [
    "def uod(up_or_down):\n",
    "    if (up_or_down > 0):\n",
    "        uod = 'UP'\n",
    "    elif (up_or_down < 0):\n",
    "        uod = 'DOWN'\n",
    "    else:\n",
    "        uod = ''\n",
    "    return(uod)"
   ]
  },
  {
   "cell_type": "code",
   "execution_count": 55,
   "metadata": {},
   "outputs": [],
   "source": [
    "dir1 = uod(up_or_down=uodd)\n",
    "dir2 = lor(left_or_right=lord)"
   ]
  },
  {
   "cell_type": "code",
   "execution_count": 56,
   "metadata": {},
   "outputs": [],
   "source": [
    "def create_directions(dir1, dir2,uodd, lord):\n",
    "    bb = (dir1 + '\\n') * (abs(uodd))\n",
    "    cc = (dir2 + '\\n') * (abs(lord))\n",
    "    print(cc + bb)"
   ]
  },
  {
   "cell_type": "code",
   "execution_count": 57,
   "metadata": {},
   "outputs": [
    {
     "name": "stdout",
     "output_type": "stream",
     "text": [
      "DOWN\n",
      "DOWN\n",
      "\n"
     ]
    }
   ],
   "source": [
    "create_directions(dir1=dir1, dir2=dir2, uodd=uodd, lord=lord)"
   ]
  },
  {
   "cell_type": "code",
   "execution_count": 58,
   "metadata": {},
   "outputs": [],
   "source": [
    "def find_value(grid, value):\n",
    "    for i in range(len(grid)):\n",
    "        for j in range(len(grid)):\n",
    "            if grid[i][j] == value:\n",
    "                return({value :[i,j]})\n",
    "            else:\n",
    "                pass\n",
    "            \n",
    "def lor(left_or_right):\n",
    "    if (left_or_right > 0):\n",
    "        lor = 'LEFT'\n",
    "    elif (left_or_right < 0):\n",
    "        lor = 'RIGHT'\n",
    "    else:\n",
    "        lor = ''\n",
    "    return(lor)\n",
    "\n",
    "def uod(up_or_down):\n",
    "    if (up_or_down > 0):\n",
    "        uod = 'UP'\n",
    "    elif (up_or_down < 0):\n",
    "        uod = 'DOWN'\n",
    "    else:\n",
    "        uod = ''\n",
    "    return(uod)\n",
    "\n",
    "def create_directions(dir1, dir2,uodd, lord):\n",
    "    bb = (dir1 + '\\n') * (abs(uodd))\n",
    "    cc = (dir2 + '\\n') * (abs(lord))\n",
    "    print(cc + bb)\n",
    "\n",
    "def displayPathtoPrincess(n,grid):\n",
    "    cc = [list(x) for x in grid]\n",
    "#    grid = grid[1:]\n",
    "    m = find_value(grid, 'm')\n",
    "    p = find_value(grid=grid,value='p')\n",
    "#print all the moves here\n",
    "    uodd = m['m'][0] - p['p'][0]\n",
    "    lord = m['m'][1] - p['p'][1]\n",
    "    dir1 = uod(up_or_down=uodd)\n",
    "    dir2 = lor(left_or_right=lord)\n",
    "    create_directions(dir1=dir1, dir2=dir2, uodd=uodd, lord=lord)"
   ]
  },
  {
   "cell_type": "code",
   "execution_count": 61,
   "metadata": {},
   "outputs": [
    {
     "name": "stdout",
     "output_type": "stream",
     "text": [
      "DOWN\n",
      "DOWN\n",
      "\n"
     ]
    }
   ],
   "source": [
    "displayPathtoPrincess(n=2, grid=grid)"
   ]
  }
 ],
 "metadata": {
  "kernelspec": {
   "display_name": "dssb",
   "language": "python",
   "name": "dssb"
  },
  "language_info": {
   "codemirror_mode": {
    "name": "ipython",
    "version": 3
   },
   "file_extension": ".py",
   "mimetype": "text/x-python",
   "name": "python",
   "nbconvert_exporter": "python",
   "pygments_lexer": "ipython3",
   "version": "3.6.8"
  }
 },
 "nbformat": 4,
 "nbformat_minor": 2
}
