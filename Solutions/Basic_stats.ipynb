{
 "cells": [
  {
   "cell_type": "code",
   "execution_count": 204,
   "metadata": {},
   "outputs": [
    {
     "name": "stdout",
     "output_type": "stream",
     "text": [
      "43900.6\n",
      "44627.5\n",
      "4978\n",
      "30466.9\n",
      "25017.0 62784.2\n"
     ]
    }
   ],
   "source": [
    "import pandas as pd\n",
    "from scipy import stats\n",
    "import numpy as np\n",
    "import sys\n",
    "\n",
    "def basic_stats(inp):\n",
    "\n",
    "    cleaned_dt = [x.rstrip('\\n') for x in inp]\n",
    "\n",
    "    len_num = float(cleaned_dt[0])\n",
    "\n",
    "    pd_dt = pd.Series(cleaned_dt[1].split(' ')).astype('int64')\n",
    "    ll = [float(x) for x in cleaned_dt[1].split(' ')]\n",
    "\n",
    "    mu = sum(ll) / len_num\n",
    "    med = pd_dt.median()\n",
    "    mode = pd_dt.mode().min()\n",
    "    sd = round((sum([(x - mu)**2 for x in ll]) / len_num)**0.5, 1)\n",
    "\n",
    "    mean = mu\n",
    "    sigma = sd\n",
    "    N = len_num\n",
    "\n",
    "    ci = stats.norm.interval(0.950004, loc=mean, scale=sigma/np.sqrt(N))\n",
    "    ci1 = round(ci[0], 1)\n",
    "    ci2 = round(ci[1], 1)\n",
    "\n",
    "    print(mu)\n",
    "    print(med)\n",
    "    print(mode)\n",
    "    print(sd)\n",
    "    print(str(ci1) + ' ' + str(ci2))\n",
    "    \n",
    "if __name__ == '__main__':\n",
    "    #input_data = ['10\\n', '64630 11735 14216 99233 14470 4978 73429 38120 51135 67060']\n",
    "    input_data = print(sys.stdin.readlines())\n",
    "    basic_stats(inp=input_data)"
   ]
  },
  {
   "cell_type": "code",
   "execution_count": null,
   "metadata": {},
   "outputs": [],
   "source": []
  }
 ],
 "metadata": {
  "kernelspec": {
   "display_name": "dssb",
   "language": "python",
   "name": "dssb"
  },
  "language_info": {
   "codemirror_mode": {
    "name": "ipython",
    "version": 3
   },
   "file_extension": ".py",
   "mimetype": "text/x-python",
   "name": "python",
   "nbconvert_exporter": "python",
   "pygments_lexer": "ipython3",
   "version": "3.6.8"
  }
 },
 "nbformat": 4,
 "nbformat_minor": 2
}
