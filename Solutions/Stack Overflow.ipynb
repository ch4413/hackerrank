{
 "cells": [
  {
   "cell_type": "code",
   "execution_count": 9,
   "metadata": {},
   "outputs": [],
   "source": [
    "import pandas as pd"
   ]
  },
  {
   "cell_type": "code",
   "execution_count": 10,
   "metadata": {},
   "outputs": [],
   "source": [
    "import json"
   ]
  },
  {
   "cell_type": "code",
   "execution_count": 14,
   "metadata": {},
   "outputs": [],
   "source": [
    "_train=[]\n",
    "train_label=[]\n",
    "f=open('/Users/chughes/Documents/DS/training.json')\n",
    "for i in range(int(f.readline())):\n",
    "    h=json.loads(f.readline())\n",
    "    _train.append(h['question']+\"\\r\\n\"+h['excerpt'])\n",
    "    train_label.append(h['topic'])\n",
    "f.close()"
   ]
  },
  {
   "cell_type": "code",
   "execution_count": 19,
   "metadata": {},
   "outputs": [
    {
     "data": {
      "text/plain": [
       "gis            2383\n",
       "scifi          2333\n",
       "android        2239\n",
       "electronics    2079\n",
       "apple          2064\n",
       "unix           1965\n",
       "photo          1945\n",
       "wordpress      1943\n",
       "security       1899\n",
       "mathematica    1369\n",
       "dtype: int64"
      ]
     },
     "execution_count": 19,
     "metadata": {},
     "output_type": "execute_result"
    }
   ],
   "source": [
    "pd.Series(train_label).value_counts()"
   ]
  }
 ],
 "metadata": {
  "kernelspec": {
   "display_name": "dssb",
   "language": "python",
   "name": "dssb"
  },
  "language_info": {
   "codemirror_mode": {
    "name": "ipython",
    "version": 3
   },
   "file_extension": ".py",
   "mimetype": "text/x-python",
   "name": "python",
   "nbconvert_exporter": "python",
   "pygments_lexer": "ipython3",
   "version": "3.6.8"
  }
 },
 "nbformat": 4,
 "nbformat_minor": 2
}
