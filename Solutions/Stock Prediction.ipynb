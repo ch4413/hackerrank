{
 "cells": [
  {
   "cell_type": "code",
   "execution_count": 1,
   "metadata": {},
   "outputs": [],
   "source": [
    "import sys\n",
    "import pandas as pd\n",
    "import numpy as np"
   ]
  },
  {
   "cell_type": "code",
   "execution_count": 47,
   "metadata": {},
   "outputs": [],
   "source": [
    "def file2list(fp):\n",
    "    with open(fp) as f:\n",
    "        list_ = f.readlines()\n",
    "    cleaned_file = [x.strip('\\n') for x in list_]\n",
    "    cc = [x.split(' ') for x in cleaned_file]\n",
    "    return(cc)"
   ]
  },
  {
   "cell_type": "code",
   "execution_count": 160,
   "metadata": {},
   "outputs": [
    {
     "data": {
      "text/plain": [
       "[['100', '10', '20'],\n",
       " ['CAL', '0', '121.83', '122.26', '123.94', '122.11', '120.58'],\n",
       " ['UCB', '0', '52.34', '50.89', '47.62', '51.16', '52.4'],\n",
       " ['RIT', '0', '100.21', '99.33', '102.87', '110.63', '110.72'],\n",
       " ['UCLA', '0', '12.5', '27.22', '9.32', '16.07', '3.86'],\n",
       " ['USC', '0', '249.58', '244.24', '242.56', '245.13', '245.35'],\n",
       " ['UFL', '0', '20.21', '19.77', '21.34', '20.21', '21.17'],\n",
       " ['UMAD', '0', '109.39', '120.49', '131.35', '127.97', '121.38'],\n",
       " ['RICE', '0', '126.3', '128', '129.08', '129.28', '124.44'],\n",
       " ['UMD', '0', '102.96', '103.62', '98.22', '96.6', '99.1'],\n",
       " ['UCSC', '0', '213.77', '193.51', '178.53', '180.08', '208.29']]"
      ]
     },
     "execution_count": 160,
     "metadata": {},
     "output_type": "execute_result"
    }
   ],
   "source": [
    "file_list = file2list('/Users/chughes/Desktop/stock.txt')\n",
    "file_list = file2list('/Users/chughes/Documents/stocks2.txt')\n",
    "file_list"
   ]
  },
  {
   "cell_type": "code",
   "execution_count": 164,
   "metadata": {},
   "outputs": [],
   "source": [
    "def status_inf(cleaned_file):\n",
    "    stats = cleaned_file[0].split(' ')\n",
    "    status = pd.DataFrame(stats, index=['m','k','d']).transpose()\n",
    "    return(status)"
   ]
  },
  {
   "cell_type": "code",
   "execution_count": 165,
   "metadata": {},
   "outputs": [],
   "source": [
    "def single_stock_df(list_):\n",
    "    split = list_.split(' ')\n",
    "    stocks = pd.DataFrame(split[2:], columns=['Value'])\n",
    "    stocks['Stock'] = split[0]\n",
    "    stocks['Amount'] = split[1]\n",
    "    stocks['Step'] = np.arange(5)\n",
    "    # wrong format\n",
    "    stocks['Value'] = stocks['Value'].astype('float')\n",
    "    return(stocks)"
   ]
  },
  {
   "cell_type": "code",
   "execution_count": 167,
   "metadata": {},
   "outputs": [
    {
     "ename": "AttributeError",
     "evalue": "'list' object has no attribute 'split'",
     "output_type": "error",
     "traceback": [
      "\u001b[0;31m---------------------------------------------------------------------------\u001b[0m",
      "\u001b[0;31mAttributeError\u001b[0m                            Traceback (most recent call last)",
      "\u001b[0;32m<ipython-input-167-ca1112562185>\u001b[0m in \u001b[0;36m<module>\u001b[0;34m\u001b[0m\n\u001b[1;32m      1\u001b[0m \u001b[0mall_results\u001b[0m \u001b[0;34m=\u001b[0m \u001b[0mpd\u001b[0m\u001b[0;34m.\u001b[0m\u001b[0mDataFrame\u001b[0m\u001b[0;34m(\u001b[0m\u001b[0mcolumns\u001b[0m\u001b[0;34m=\u001b[0m\u001b[0;34m[\u001b[0m\u001b[0;34m'Value'\u001b[0m\u001b[0;34m,\u001b[0m\u001b[0;34m'Stock'\u001b[0m\u001b[0;34m,\u001b[0m \u001b[0;34m'Amount'\u001b[0m\u001b[0;34m]\u001b[0m\u001b[0;34m)\u001b[0m\u001b[0;34m\u001b[0m\u001b[0;34m\u001b[0m\u001b[0m\n\u001b[1;32m      2\u001b[0m \u001b[0;32mfor\u001b[0m \u001b[0mstock\u001b[0m \u001b[0;32min\u001b[0m \u001b[0mrange\u001b[0m\u001b[0;34m(\u001b[0m\u001b[0mint\u001b[0m\u001b[0;34m(\u001b[0m\u001b[0mstatus\u001b[0m\u001b[0;34m[\u001b[0m\u001b[0;34m'k'\u001b[0m\u001b[0;34m]\u001b[0m\u001b[0;34m.\u001b[0m\u001b[0mitem\u001b[0m\u001b[0;34m(\u001b[0m\u001b[0;34m)\u001b[0m\u001b[0;34m)\u001b[0m\u001b[0;34m)\u001b[0m\u001b[0;34m:\u001b[0m\u001b[0;34m\u001b[0m\u001b[0;34m\u001b[0m\u001b[0m\n\u001b[0;32m----> 3\u001b[0;31m     \u001b[0mall_results\u001b[0m \u001b[0;34m=\u001b[0m \u001b[0mall_results\u001b[0m\u001b[0;34m.\u001b[0m\u001b[0mappend\u001b[0m\u001b[0;34m(\u001b[0m\u001b[0msingle_stock_df\u001b[0m\u001b[0;34m(\u001b[0m\u001b[0mfile_list\u001b[0m\u001b[0;34m[\u001b[0m\u001b[0mstock\u001b[0m \u001b[0;34m+\u001b[0m\u001b[0;36m1\u001b[0m\u001b[0;34m]\u001b[0m\u001b[0;34m)\u001b[0m\u001b[0;34m,\u001b[0m \u001b[0msort\u001b[0m\u001b[0;34m=\u001b[0m\u001b[0;32mFalse\u001b[0m\u001b[0;34m)\u001b[0m\u001b[0;34m\u001b[0m\u001b[0;34m\u001b[0m\u001b[0m\n\u001b[0m",
      "\u001b[0;32m<ipython-input-165-aad275917eb9>\u001b[0m in \u001b[0;36msingle_stock_df\u001b[0;34m(list_)\u001b[0m\n\u001b[1;32m      1\u001b[0m \u001b[0;32mdef\u001b[0m \u001b[0msingle_stock_df\u001b[0m\u001b[0;34m(\u001b[0m\u001b[0mlist_\u001b[0m\u001b[0;34m)\u001b[0m\u001b[0;34m:\u001b[0m\u001b[0;34m\u001b[0m\u001b[0;34m\u001b[0m\u001b[0m\n\u001b[0;32m----> 2\u001b[0;31m     \u001b[0msplit\u001b[0m \u001b[0;34m=\u001b[0m \u001b[0mlist_\u001b[0m\u001b[0;34m.\u001b[0m\u001b[0msplit\u001b[0m\u001b[0;34m(\u001b[0m\u001b[0;34m' '\u001b[0m\u001b[0;34m)\u001b[0m\u001b[0;34m\u001b[0m\u001b[0;34m\u001b[0m\u001b[0m\n\u001b[0m\u001b[1;32m      3\u001b[0m     \u001b[0mstocks\u001b[0m \u001b[0;34m=\u001b[0m \u001b[0mpd\u001b[0m\u001b[0;34m.\u001b[0m\u001b[0mDataFrame\u001b[0m\u001b[0;34m(\u001b[0m\u001b[0msplit\u001b[0m\u001b[0;34m[\u001b[0m\u001b[0;36m2\u001b[0m\u001b[0;34m:\u001b[0m\u001b[0;34m]\u001b[0m\u001b[0;34m,\u001b[0m \u001b[0mcolumns\u001b[0m\u001b[0;34m=\u001b[0m\u001b[0;34m[\u001b[0m\u001b[0;34m'Value'\u001b[0m\u001b[0;34m]\u001b[0m\u001b[0;34m)\u001b[0m\u001b[0;34m\u001b[0m\u001b[0;34m\u001b[0m\u001b[0m\n\u001b[1;32m      4\u001b[0m     \u001b[0mstocks\u001b[0m\u001b[0;34m[\u001b[0m\u001b[0;34m'Stock'\u001b[0m\u001b[0;34m]\u001b[0m \u001b[0;34m=\u001b[0m \u001b[0msplit\u001b[0m\u001b[0;34m[\u001b[0m\u001b[0;36m0\u001b[0m\u001b[0;34m]\u001b[0m\u001b[0;34m\u001b[0m\u001b[0;34m\u001b[0m\u001b[0m\n\u001b[1;32m      5\u001b[0m     \u001b[0mstocks\u001b[0m\u001b[0;34m[\u001b[0m\u001b[0;34m'Amount'\u001b[0m\u001b[0;34m]\u001b[0m \u001b[0;34m=\u001b[0m \u001b[0msplit\u001b[0m\u001b[0;34m[\u001b[0m\u001b[0;36m1\u001b[0m\u001b[0;34m]\u001b[0m\u001b[0;34m\u001b[0m\u001b[0;34m\u001b[0m\u001b[0m\n",
      "\u001b[0;31mAttributeError\u001b[0m: 'list' object has no attribute 'split'"
     ]
    }
   ],
   "source": [
    "all_results = pd.DataFrame(columns=['Value','Stock', 'Amount'])\n",
    "for stock in range(int(status['k'].item())):\n",
    "    all_results = all_results.append(single_stock_df(file_list[stock +1]), sort=False)"
   ]
  },
  {
   "cell_type": "code",
   "execution_count": 168,
   "metadata": {},
   "outputs": [
    {
     "data": {
      "text/html": [
       "<div>\n",
       "<style scoped>\n",
       "    .dataframe tbody tr th:only-of-type {\n",
       "        vertical-align: middle;\n",
       "    }\n",
       "\n",
       "    .dataframe tbody tr th {\n",
       "        vertical-align: top;\n",
       "    }\n",
       "\n",
       "    .dataframe thead th {\n",
       "        text-align: right;\n",
       "    }\n",
       "</style>\n",
       "<table border=\"1\" class=\"dataframe\">\n",
       "  <thead>\n",
       "    <tr style=\"text-align: right;\">\n",
       "      <th></th>\n",
       "      <th>Value</th>\n",
       "      <th>Stock</th>\n",
       "      <th>Amount</th>\n",
       "    </tr>\n",
       "  </thead>\n",
       "  <tbody>\n",
       "  </tbody>\n",
       "</table>\n",
       "</div>"
      ],
      "text/plain": [
       "Empty DataFrame\n",
       "Columns: [Value, Stock, Amount]\n",
       "Index: []"
      ]
     },
     "execution_count": 168,
     "metadata": {},
     "output_type": "execute_result"
    }
   ],
   "source": [
    "all_results"
   ]
  },
  {
   "cell_type": "code",
   "execution_count": 169,
   "metadata": {},
   "outputs": [],
   "source": [
    "from sklearn.linear_model import LinearRegression"
   ]
  },
  {
   "cell_type": "code",
   "execution_count": 170,
   "metadata": {},
   "outputs": [],
   "source": [
    "reg = LinearRegression()"
   ]
  },
  {
   "cell_type": "code",
   "execution_count": 171,
   "metadata": {},
   "outputs": [],
   "source": [
    "import seaborn as sns"
   ]
  },
  {
   "cell_type": "code",
   "execution_count": 173,
   "metadata": {},
   "outputs": [],
   "source": [
    "def get_gradient(stock_name):\n",
    "    reg = LinearRegression()\n",
    "    stock1 = all_results[all_results['Stock']==stock_name]\n",
    "    X = stock1[['Step']]\n",
    "    y = stock1[['Value']]\n",
    "    reg.fit(X, y)\n",
    "    return(reg.coef_)"
   ]
  },
  {
   "cell_type": "code",
   "execution_count": 175,
   "metadata": {},
   "outputs": [],
   "source": [
    "#areg = LinearRegression()\n",
    "#stock1 = all_results[all_results['Stock']=='HR']\n",
    "#X = stock1[['Step']]\n",
    "#y = stock1[['Value']]\n",
    "#reg.fit(X, y)\n",
    "#reg.coef_"
   ]
  },
  {
   "cell_type": "markdown",
   "metadata": {},
   "source": [
    "### Format data"
   ]
  },
  {
   "cell_type": "code",
   "execution_count": 176,
   "metadata": {},
   "outputs": [],
   "source": [
    "def create_output(data):\n",
    "    un = data['Stock'].nunique()\n",
    "    print(un)\n",
    "    print(data['Stock'].unique()[0] + ' SELL ' +str(10))\n",
    "    print(data['Stock'].unique()[1] + ' SELL ' +str(0))"
   ]
  },
  {
   "cell_type": "markdown",
   "metadata": {},
   "source": [
    "### Simple buy higher, sell lower"
   ]
  },
  {
   "cell_type": "code",
   "execution_count": 180,
   "metadata": {},
   "outputs": [
    {
     "data": {
      "text/plain": [
       "[['100', '10', '20'],\n",
       " ['CAL', '0', '121.83', '122.26', '123.94', '122.11', '120.58'],\n",
       " ['UCB', '0', '52.34', '50.89', '47.62', '51.16', '52.4'],\n",
       " ['RIT', '0', '100.21', '99.33', '102.87', '110.63', '110.72'],\n",
       " ['UCLA', '0', '12.5', '27.22', '9.32', '16.07', '3.86'],\n",
       " ['USC', '0', '249.58', '244.24', '242.56', '245.13', '245.35'],\n",
       " ['UFL', '0', '20.21', '19.77', '21.34', '20.21', '21.17'],\n",
       " ['UMAD', '0', '109.39', '120.49', '131.35', '127.97', '121.38'],\n",
       " ['RICE', '0', '126.3', '128', '129.08', '129.28', '124.44'],\n",
       " ['UMD', '0', '102.96', '103.62', '98.22', '96.6', '99.1'],\n",
       " ['UCSC', '0', '213.77', '193.51', '178.53', '180.08', '208.29']]"
      ]
     },
     "execution_count": 180,
     "metadata": {},
     "output_type": "execute_result"
    }
   ],
   "source": [
    "aa = file2list('/Users/chughes/Documents/stocks2.txt')\n",
    "aa"
   ]
  },
  {
   "cell_type": "code",
   "execution_count": 183,
   "metadata": {},
   "outputs": [],
   "source": [
    "def strategy_print(data_list):\n",
    "    string_list = []\n",
    "    money = float(data_list[0][0])\n",
    "    for i in (np.arange(int(data_list[0][1]))):\n",
    "        stock = data_list[i + 1]\n",
    "        diff = round(float(stock[-1]) - float(stock[-2]), 2)\n",
    "        if (0 >= diff) & (float(stock[-1]) < money):\n",
    "            operation = 'BUY 1'\n",
    "            money = money - float(stock[-1])\n",
    "            string_list.append(stock[0] + ' ' + operation)\n",
    "        else:\n",
    "            if (stock[1] == '0'):\n",
    "                pass\n",
    "            else:\n",
    "                operation = 'SELL ' + stock[1]\n",
    "                string_list.append(stock[0] + ' ' + operation)\n",
    "    \n",
    "    count = len(string_list)\n",
    "    a = '\\n'.join(string_list)\n",
    "    print(str(count) + '\\n' + a)"
   ]
  },
  {
   "cell_type": "code",
   "execution_count": 184,
   "metadata": {},
   "outputs": [
    {
     "name": "stdout",
     "output_type": "stream",
     "text": [
      "1\n",
      "UCLA BUY 1\n"
     ]
    }
   ],
   "source": [
    "strategy_print(aa)"
   ]
  },
  {
   "cell_type": "code",
   "execution_count": null,
   "metadata": {},
   "outputs": [],
   "source": []
  }
 ],
 "metadata": {
  "kernelspec": {
   "display_name": "dssb",
   "language": "python",
   "name": "dssb"
  },
  "language_info": {
   "codemirror_mode": {
    "name": "ipython",
    "version": 3
   },
   "file_extension": ".py",
   "mimetype": "text/x-python",
   "name": "python",
   "nbconvert_exporter": "python",
   "pygments_lexer": "ipython3",
   "version": "3.6.8"
  }
 },
 "nbformat": 4,
 "nbformat_minor": 2
}
