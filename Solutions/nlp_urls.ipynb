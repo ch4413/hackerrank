{
 "cells": [
  {
   "cell_type": "code",
   "execution_count": 23,
   "metadata": {},
   "outputs": [],
   "source": [
    "def file2list(fp):\n",
    "    with open(fp) as f:\n",
    "        list_ = f.readlines()\n",
    "    cleaned_file = [x.strip('\\n') for x in list_]\n",
    "    return(cleaned_file)"
   ]
  },
  {
   "cell_type": "code",
   "execution_count": 197,
   "metadata": {},
   "outputs": [],
   "source": [
    "data = file2list('/Users/chughes/Documents/DS/urls.txt')"
   ]
  },
  {
   "cell_type": "code",
   "execution_count": 198,
   "metadata": {},
   "outputs": [
    {
     "data": {
      "text/plain": [
       "'48'"
      ]
     },
     "execution_count": 198,
     "metadata": {},
     "output_type": "execute_result"
    }
   ],
   "source": [
    "data[0]"
   ]
  },
  {
   "cell_type": "code",
   "execution_count": 30,
   "metadata": {},
   "outputs": [],
   "source": [
    "import re"
   ]
  },
  {
   "cell_type": "code",
   "execution_count": 78,
   "metadata": {},
   "outputs": [
    {
     "data": {
      "text/plain": [
       "['timesonline']"
      ]
     },
     "execution_count": 78,
     "metadata": {},
     "output_type": "execute_result"
    }
   ],
   "source": [
    "re.findall('(?:(?<!\\.))[a-z]{2,}(?=\\.)', data[6])"
   ]
  },
  {
   "cell_type": "code",
   "execution_count": 66,
   "metadata": {},
   "outputs": [
    {
     "data": {
      "text/plain": [
       "'timesonline.co.uk'"
      ]
     },
     "execution_count": 66,
     "metadata": {},
     "output_type": "execute_result"
    }
   ],
   "source": [
    "data[6]"
   ]
  },
  {
   "cell_type": "code",
   "execution_count": 29,
   "metadata": {},
   "outputs": [
    {
     "data": {
      "text/plain": [
       "'economist.com'"
      ]
     },
     "execution_count": 29,
     "metadata": {},
     "output_type": "execute_result"
    }
   ],
   "source": [
    "data[1]"
   ]
  },
  {
   "cell_type": "code",
   "execution_count": 89,
   "metadata": {},
   "outputs": [],
   "source": [
    "cleaned_words = []\n",
    "for i in range(int(data[0])):\n",
    "    word = re.findall('(?:(?<!\\.|#))[a-z]{2,}(?=\\.)', data[1+i])[0]\n",
    "    cleaned_words.append(word)"
   ]
  },
  {
   "cell_type": "markdown",
   "metadata": {},
   "source": [
    "Common words"
   ]
  },
  {
   "cell_type": "code",
   "execution_count": 307,
   "metadata": {},
   "outputs": [],
   "source": [
    "common_words = file2list('/Users/chughes/Documents/DS/commonwords.txt')"
   ]
  },
  {
   "cell_type": "code",
   "execution_count": 308,
   "metadata": {},
   "outputs": [
    {
     "data": {
      "text/plain": [
       "['the', 'be', 'and', 'of', 'a', 'in']"
      ]
     },
     "execution_count": 308,
     "metadata": {},
     "output_type": "execute_result"
    }
   ],
   "source": [
    "common_words[:6]"
   ]
  },
  {
   "cell_type": "code",
   "execution_count": 94,
   "metadata": {},
   "outputs": [
    {
     "data": {
      "text/plain": [
       "'economist'"
      ]
     },
     "execution_count": 94,
     "metadata": {},
     "output_type": "execute_result"
    }
   ],
   "source": [
    "cleaned_words[0] "
   ]
  },
  {
   "cell_type": "code",
   "execution_count": 272,
   "metadata": {},
   "outputs": [
    {
     "name": "stdout",
     "output_type": "stream",
     "text": [
      "economist \n",
      "market watch\n",
      "me \n",
      "live internet\n",
      "how stuffworks\n",
      "time sonline\n",
      "example \n",
      "patch \n",
      "sun \n",
      "wet paint\n",
      "us a\n",
      "meet up\n",
      "biblegateway \n",
      "the globeandmail\n",
      "share asale\n",
      "artist eer\n",
      "us news\n",
      "state \n",
      "about \n",
      "sky rock\n",
      "reference \n",
      "science daily\n",
      "business wire\n",
      "yellow book\n",
      "ask \n",
      "soup \n",
      "live door\n",
      "istockphoto \n",
      "on sugar\n",
      "the dailybeast\n",
      "pure volume\n",
      "cargo collective\n",
      "earth link\n",
      "net log\n",
      "brave journal\n",
      "chin adaily\n",
      "dot \n",
      "real \n",
      "print friendly\n",
      "host monster\n",
      "army \n",
      "chin a\n",
      "fast company\n",
      "open office\n",
      "so so\n",
      "top list\n",
      "the star\n",
      "science direct\n"
     ]
    }
   ],
   "source": [
    "i =0 \n",
    "for names in cleaned_words:\n",
    "    full_names = names\n",
    "    flag = False\n",
    "    while (not flag):\n",
    "        flag = any([x == names for x in common_words])\n",
    "        if not flag:\n",
    "            names = names[:-1]\n",
    "            if len(names) == 1:\n",
    "                flag = True\n",
    "                names = full_names\n",
    "    print(names, full_names[len(names):])"
   ]
  },
  {
   "cell_type": "code",
   "execution_count": 301,
   "metadata": {},
   "outputs": [],
   "source": [
    "aa = 'currentratesoughttogodown'"
   ]
  },
  {
   "cell_type": "code",
   "execution_count": 302,
   "metadata": {},
   "outputs": [],
   "source": [
    "def get_all_substrings(input_string):\n",
    "    length = len(input_string)\n",
    "    return([input_string[i:j+1] for i in range(length) for j in range(i,length)])"
   ]
  },
  {
   "cell_type": "code",
   "execution_count": 343,
   "metadata": {},
   "outputs": [],
   "source": [
    "def possible_words(string):\n",
    "    matches = []\n",
    "    for i in range(len(string)):\n",
    "        if any([x == string[:i] for x in common_words]):\n",
    "            matches.append(string[:i])\n",
    "    return(matches)"
   ]
  },
  {
   "cell_type": "code",
   "execution_count": 348,
   "metadata": {},
   "outputs": [],
   "source": [
    "word = possible_words(aa)[0]"
   ]
  },
  {
   "cell_type": "code",
   "execution_count": 352,
   "metadata": {},
   "outputs": [],
   "source": [
    "word1 = possible_words(aa[len(word):])"
   ]
  },
  {
   "cell_type": "code",
   "execution_count": null,
   "metadata": {},
   "outputs": [],
   "source": []
  },
  {
   "cell_type": "code",
   "execution_count": null,
   "metadata": {},
   "outputs": [],
   "source": [
    "possible_words(aa[len(word):])"
   ]
  },
  {
   "cell_type": "markdown",
   "metadata": {},
   "source": [
    "Return all matches"
   ]
  },
  {
   "cell_type": "code",
   "execution_count": 319,
   "metadata": {},
   "outputs": [],
   "source": [
    "import pandas as pd"
   ]
  },
  {
   "cell_type": "code",
   "execution_count": 320,
   "metadata": {},
   "outputs": [],
   "source": [
    "words = open('/Users/chughes/Documents/DS/commonwords.txt').readlines()"
   ]
  },
  {
   "cell_type": "code",
   "execution_count": 321,
   "metadata": {},
   "outputs": [],
   "source": [
    "for word in words:\n",
    "    features[word.strip('\\n').lower()] += 1"
   ]
  },
  {
   "cell_type": "code",
   "execution_count": 211,
   "metadata": {},
   "outputs": [],
   "source": [
    "#!/usr/bin/python\n",
    "\n",
    "from collections import defaultdict\n",
    "features = defaultdict(lambda : 0)\n",
    "words = open('/Users/chughes/Documents/DS/commonwords.txt').readlines()\n",
    "\n",
    "for word in words:\n",
    "    features[word.strip('\\n').lower()] += 1\n",
    "\n",
    "def longest(s):\n",
    "    l = 0\n",
    "    ls = ''\n",
    "    if not s:\n",
    "        return\n",
    "    if (len(s)) == 0:\n",
    "        return \n",
    "    for i in s:\n",
    "        if len(i) > l:\n",
    "            ls = i\n",
    "            l = len(i)\n",
    "    return ls\n",
    "\n",
    "def segment(ip):\n",
    "    global features\n",
    "    ip = ip.lower()\n",
    "    if len(ip) == 0:\n",
    "        return\n",
    "    ip = re.findall('(?:(?<!\\.|#))[a-z]{2,}(?=\\.)', ip)[0]\n",
    "    ip = re.replace('#', '')\n",
    "\n",
    "    segs = []\n",
    "    while len(ip) != 0:\n",
    "        possible = []\n",
    "        flag = False\n",
    "        for i in range(len(ip)+1):    \n",
    "            if features[ip[:i]] != 0:\n",
    "                possible.append(ip[:i])\n",
    "            try:\n",
    "                float(ip[:i])\n",
    "                possible.append(ip[:i])\n",
    "                flag = True\n",
    "            except:\n",
    "                pass\n",
    "\n",
    "        lw = longest(possible)\n",
    "        if lw is None :\n",
    "            break\n",
    "\n",
    "        try:\n",
    "            int(lw)\n",
    "            if int(lw) == float(lw):\n",
    "                pass\n",
    "            else:\n",
    "                lw = int(lw)\n",
    "        except:\n",
    "            pass\n",
    "        segs.append(lw)\n",
    "        ip = ip[len(lw):]\n",
    "        \n",
    "    if ip != '':\n",
    "        if ip == 's':\n",
    "\n",
    "            segs[-1] += ip\n",
    "    if len(segs) == 0:\n",
    "        print(ip)\n",
    "    else:\n",
    "        print(' '.join(segs))"
   ]
  },
  {
   "cell_type": "code",
   "execution_count": 212,
   "metadata": {},
   "outputs": [
    {
     "name": "stdout",
     "output_type": "stream",
     "text": [
      "economist\n",
      "market watch\n",
      "me\n",
      "live internet\n",
      "how stuff works\n",
      "time son line\n",
      "example\n",
      "patch\n",
      "sun\n",
      "wet paint\n",
      "us a\n",
      "meet up\n",
      "bible gate way\n",
      "the globe and mail\n",
      "share as a\n",
      "artist\n",
      "us news\n",
      "state\n",
      "about\n",
      "sky rock\n",
      "reference\n",
      "science daily\n",
      "business wire\n",
      "yellow book\n",
      "ask\n",
      "soup\n",
      "live door\n",
      "i stock photo\n",
      "on sugar\n",
      "the daily beast\n",
      "pure volume\n",
      "cargo collective\n",
      "earth link\n",
      "net log\n",
      "brave journal\n",
      "chin ad a i\n",
      "dot\n",
      "real\n",
      "print friendly\n",
      "host monster\n",
      "army\n",
      "chin a\n",
      "fast company\n",
      "open office\n",
      "so so\n",
      "top list\n",
      "the star\n",
      "science direct\n"
     ]
    }
   ],
   "source": [
    "if __name__ == '__main__':\n",
    "    n = int(data[0])\n",
    "    for i in range(n):\n",
    "        sent = data[i+1]\n",
    "        segment(sent)"
   ]
  },
  {
   "cell_type": "code",
   "execution_count": 264,
   "metadata": {},
   "outputs": [
    {
     "name": "stdout",
     "output_type": "stream",
     "text": [
      "two words\n",
      "test case\n"
     ]
    }
   ],
   "source": [
    "#!/usr/bin/python\n",
    "import re\n",
    "import sys\n",
    "from collections import defaultdict\n",
    "\n",
    "features = defaultdict(lambda : 0)\n",
    "words = open('/Users/chughes/Documents/DS/commonwords.txt').readlines()\n",
    "\n",
    "for word in words:\n",
    "    features[word.strip('\\n').lower()] += 1\n",
    "\n",
    "def longest(s):\n",
    "    l = 0\n",
    "    ls = ''\n",
    "    if not s:\n",
    "        return\n",
    "    if (len(s)) == 0:\n",
    "        return \n",
    "    for i in s:\n",
    "        if len(i) > l:\n",
    "            ls = i\n",
    "            l = len(i)\n",
    "    return ls\n",
    "\n",
    "def segment(ip):\n",
    "    global features\n",
    "    ip = ip.lower()\n",
    "    if len(ip) == 0:\n",
    "        return\n",
    "    ip = re.findall('(?:(?<!\\.|#))[a-z]{2,}(?=\\.)|#[a-z]*', ip)[0]\n",
    "    ip = ip.replace('#', '')\n",
    "\n",
    "    segs = []\n",
    "    while len(ip) != 0:\n",
    "        possible = []\n",
    "        flag = False\n",
    "        for i in range(len(ip)+1):    \n",
    "            if features[ip[:i]] != 0:\n",
    "                possible.append(ip[:i])\n",
    "            try:\n",
    "                float(ip[:i])\n",
    "                possible.append(ip[:i])\n",
    "                flag = True\n",
    "            except:\n",
    "                pass\n",
    "\n",
    "        lw = longest(possible)\n",
    "        if lw is None :\n",
    "            break\n",
    "\n",
    "        try:\n",
    "            int(lw)\n",
    "            if int(lw) == float(lw):\n",
    "                pass\n",
    "            else:\n",
    "                lw = int(lw)\n",
    "        except:\n",
    "            pass\n",
    "        segs.append(lw)\n",
    "        ip = ip[len(lw):]\n",
    "        \n",
    "    if ip != '':\n",
    "        if ip == 's':\n",
    "\n",
    "            segs[-1] += ip\n",
    "    if len(segs) == 0:\n",
    "        print(ip)\n",
    "    else:\n",
    "        print(' '.join(segs))\n",
    "\n",
    "#data = sys.stdin.readlines()\n",
    "data = file2list('/Users/chughes/Documents/DS/urls.txt')\n",
    "\n",
    "data = ['2', '#twowords', '#testcase']\n",
    "\n",
    "data = [x.strip('\\n') for x in data]\n",
    "if __name__ == '__main__':\n",
    "    n = int(data[0])\n",
    "    for i in range(n):\n",
    "        sent = data[i+1]\n",
    "        segment(sent)"
   ]
  }
 ],
 "metadata": {
  "kernelspec": {
   "display_name": "dssb",
   "language": "python",
   "name": "dssb"
  },
  "language_info": {
   "codemirror_mode": {
    "name": "ipython",
    "version": 3
   },
   "file_extension": ".py",
   "mimetype": "text/x-python",
   "name": "python",
   "nbconvert_exporter": "python",
   "pygments_lexer": "ipython3",
   "version": "3.6.8"
  }
 },
 "nbformat": 4,
 "nbformat_minor": 2
}
