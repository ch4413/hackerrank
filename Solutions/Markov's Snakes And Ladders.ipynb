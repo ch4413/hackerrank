{
 "cells": [
  {
   "cell_type": "code",
   "execution_count": 1,
   "metadata": {},
   "outputs": [],
   "source": [
    "import random\n",
    "import pandas as pd"
   ]
  },
  {
   "cell_type": "code",
   "execution_count": 2,
   "metadata": {},
   "outputs": [],
   "source": [
    "def file2list(fp):\n",
    "    with open(fp) as f:\n",
    "        list_ = f.readlines()\n",
    "    cleaned_file = [x.strip('\\n') for x in list_]\n",
    "    cleaned_file = [x.split(' ') for x in cleaned_file]\n",
    "    return(cleaned_file)"
   ]
  },
  {
   "cell_type": "code",
   "execution_count": 3,
   "metadata": {},
   "outputs": [],
   "source": [
    "path = '/Users/chughes/Documents/DS/markovsnake.txt'\n",
    "path = '/Users/chughes/Documents/DS/sal_2.txt'"
   ]
  },
  {
   "cell_type": "code",
   "execution_count": 4,
   "metadata": {},
   "outputs": [],
   "source": [
    "b = file2list(path)"
   ]
  },
  {
   "cell_type": "code",
   "execution_count": 5,
   "metadata": {},
   "outputs": [
    {
     "data": {
      "text/plain": [
       "[['10'],\n",
       " ['0.18,0.03,0.08,0.5,0.03,0.18'],\n",
       " ['5,6'],\n",
       " ['22,48', '38,58', '8,88', '20,54', '30,62'],\n",
       " ['73,29', '59,3', '47,15', '63,37', '67,31', '53,7']]"
      ]
     },
     "execution_count": 5,
     "metadata": {},
     "output_type": "execute_result"
    }
   ],
   "source": [
    "b[:5] #..."
   ]
  },
  {
   "cell_type": "code",
   "execution_count": 6,
   "metadata": {},
   "outputs": [],
   "source": [
    "def format_game_input(game_input):\n",
    "    probs = game_input[0][0].split(',')\n",
    "    probs = [float(x) for x in probs]\n",
    "    \n",
    "    sal_count = game_input[1][0].split(',')\n",
    "    sal_count = [float(x) for x in sal_count]\n",
    "    if sal_count[0]>15 or sal_count[1] >15:\n",
    "        return\n",
    "    \n",
    "    v = [x.split(',') for x in game_input[2]]\n",
    "    z = [[float(y) for y in x] for x in v]\n",
    "    dict_ladder = dict(z)\n",
    "    v = [x.split(',') for x in game_input[3]]\n",
    "    z = [[float(y) for y in x] for x in v]\n",
    "    dict_snakes = dict(z)\n",
    "    \n",
    "    dict_ladder.update(dict_snakes)\n",
    "    \n",
    "    return([probs, dict_ladder, sal_count])\n",
    "\n",
    "def get_roll(probs):\n",
    "    num = random.choices(range(1, 7), weights=probs)\n",
    "    return(num[0])\n",
    "\n",
    "def play_SAL(probs, magic_numbers):\n",
    "    score = 1\n",
    "    count = 0\n",
    "    scores = []\n",
    "    \n",
    "    while (score < 100):\n",
    "        if count > 999:\n",
    "            return\n",
    "        roll = get_roll(probs=probs)\n",
    "        if roll + score > 100:\n",
    "            pass\n",
    "        else:\n",
    "            score += roll\n",
    "            if score in magic_numbers.keys():\n",
    "                score = magic_numbers[score]\n",
    "        count += 1\n",
    "        scores.append((score, count))\n",
    "    return(count)\n",
    "\n",
    "no_games = int(b[0][0])\n",
    "games = []\n",
    "for i in range(no_games):\n",
    "    game = b[i*4 + 1:(i+1)*4 + 1]\n",
    "    games.append(game)\n",
    "    \n",
    "games_formatted = []\n",
    "for i in range(no_games):\n",
    "    games_formatted.append(format_game_input(game_input=games[i]))\n",
    "    ### Remove games with None - more than 15 sAls\n",
    "    games_formatted = [x for x in games_formatted if x is not None]"
   ]
  },
  {
   "cell_type": "code",
   "execution_count": 7,
   "metadata": {},
   "outputs": [
    {
     "name": "stdout",
     "output_type": "stream",
     "text": [
      "33\n",
      "134\n",
      "37\n",
      "18\n",
      "73\n",
      "83\n",
      "22\n",
      "26\n",
      "22\n",
      "38\n"
     ]
    }
   ],
   "source": [
    "for i in range(len(games_formatted)):\n",
    "    results = []\n",
    "    while (len(results) < 5000):\n",
    "        result = play_SAL(probs=games_formatted[i][0], magic_numbers=games_formatted[i][1])\n",
    "        if result != None:\n",
    "            results.append(result)\n",
    "    print(str(round(sum(results) / 5000)))"
   ]
  },
  {
   "cell_type": "code",
   "execution_count": 8,
   "metadata": {},
   "outputs": [
    {
     "data": {
      "text/plain": [
       "38"
      ]
     },
     "execution_count": 8,
     "metadata": {},
     "output_type": "execute_result"
    }
   ],
   "source": [
    "33\n",
    "132\n",
    "37\n",
    "17\n",
    "71\n",
    "84\n",
    "22\n",
    "25\n",
    "21\n",
    "38"
   ]
  }
 ],
 "metadata": {
  "kernelspec": {
   "display_name": "dssb",
   "language": "python",
   "name": "dssb"
  },
  "language_info": {
   "codemirror_mode": {
    "name": "ipython",
    "version": 3
   },
   "file_extension": ".py",
   "mimetype": "text/x-python",
   "name": "python",
   "nbconvert_exporter": "python",
   "pygments_lexer": "ipython3",
   "version": "3.6.8"
  }
 },
 "nbformat": 4,
 "nbformat_minor": 2
}
