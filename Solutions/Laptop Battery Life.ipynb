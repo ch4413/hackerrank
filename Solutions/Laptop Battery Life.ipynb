{
 "cells": [
  {
   "cell_type": "code",
   "execution_count": 46,
   "metadata": {},
   "outputs": [
    {
     "name": "stdout",
     "output_type": "stream",
     "text": [
      "8.0\n",
      "\n"
     ]
    }
   ],
   "source": [
    "import math\n",
    "import os\n",
    "import random\n",
    "import re\n",
    "import sys\n",
    "\n",
    "import pandas as pd\n",
    "import numpy as np\n",
    "from sklearn.linear_model import LinearRegression\n",
    "\n",
    "#data = pd.read_csv('trainingdata.txt', delimiter=',', header=None, names=['ChargeT', 'BatteryT'])\n",
    "data = pd.read_csv('https://s3.amazonaws.com/hr-testcases/399/assets/trainingdata.txt', delimiter=',', header=None, names=['ChargeT', 'BatteryT'])\n",
    "data.sort_values('ChargeT', inplace=True)\n",
    "\n",
    "data1 = data.query(\"BatteryT != 8\")\n",
    "\n",
    "lm = LinearRegression()\n",
    "X = data1[['ChargeT']]\n",
    "y = data1[['BatteryT']]\n",
    "reg = LinearRegression().fit(X, y)\n",
    "\n",
    "def pred_c(data, model, value):\n",
    "    if value[0][0] > data.query('BatteryT == 8')['ChargeT'].min():\n",
    "        res = np.array(8)\n",
    "    else:\n",
    "        res = model.predict(value)\n",
    "    return(round(float(res.item()), 2))\n",
    "\n",
    "if __name__ == '__main__':\n",
    "    #timeCharged = [[float(sys.stdin.readline())]]\n",
    "    timeCharged = [[float(8.12)]]\n",
    "    print(pred_c(data=data, model=reg, value = timeCharged))\n",
    "    print(sys.stdin.readline())\n",
    "\n"
   ]
  },
  {
   "cell_type": "code",
   "execution_count": null,
   "metadata": {},
   "outputs": [],
   "source": []
  }
 ],
 "metadata": {
  "kernelspec": {
   "display_name": "dssb",
   "language": "python",
   "name": "dssb"
  },
  "language_info": {
   "codemirror_mode": {
    "name": "ipython",
    "version": 3
   },
   "file_extension": ".py",
   "mimetype": "text/x-python",
   "name": "python",
   "nbconvert_exporter": "python",
   "pygments_lexer": "ipython3",
   "version": "3.6.8"
  }
 },
 "nbformat": 4,
 "nbformat_minor": 2
}
