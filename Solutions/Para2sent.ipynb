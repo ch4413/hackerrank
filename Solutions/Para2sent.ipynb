{
 "cells": [
  {
   "cell_type": "code",
   "execution_count": 1,
   "metadata": {},
   "outputs": [],
   "source": [
    "import re"
   ]
  },
  {
   "cell_type": "code",
   "execution_count": 315,
   "metadata": {},
   "outputs": [],
   "source": [
    "def file2list(fp):\n",
    "    with open(fp) as f:\n",
    "        list_ = f.readlines()\n",
    "        string = list_[0]\n",
    "        string = string.replace('\\n', '')\n",
    "    return(string)"
   ]
  },
  {
   "cell_type": "code",
   "execution_count": 207,
   "metadata": {},
   "outputs": [],
   "source": [
    "string = file2list('/Users/chughes/Documents/DS/parasent.txt')"
   ]
  },
  {
   "cell_type": "code",
   "execution_count": 262,
   "metadata": {},
   "outputs": [
    {
     "name": "stdout",
     "output_type": "stream",
     "text": [
      "['foo.test.', 'B.', ' Tets.']\n"
     ]
    }
   ],
   "source": [
    "import re\n",
    "\n",
    "def zerowidthsplit(pattern, string):\n",
    "    splits = list(m.start() for m in re.finditer(pattern, string))\n",
    "    starts = [0] + splits\n",
    "    ends = splits + [ len(string) ]\n",
    "    return [string[start:end] for start, end in zip(starts, ends)]"
   ]
  },
  {
   "cell_type": "code",
   "execution_count": 269,
   "metadata": {},
   "outputs": [],
   "source": [
    "string = 'Born before the web to facilitate the exchange of hardcopy documents, PDF is the format people use when they need an electronic “hard copy” document. Many business, publishing and records-keeping applications require a reliable, flexible and capable analog for paper. Some love their TIFF files, but those are pictures, not documents. For the vast majority, PDF remains the only game in town. Look around. You may be surprised by how large a proportion of your important (and unimportant) content is in PDF. And don’t just count files, as I’ve done in this survey. Organizations who study their online content are often surprised to find that their PDF files, which may include dozens or hundreds of pages, actually contain far more actual content than their web-pages.'"
   ]
  },
  {
   "cell_type": "code",
   "execution_count": 270,
   "metadata": {},
   "outputs": [
    {
     "name": "stdout",
     "output_type": "stream",
     "text": [
      "Born before the web to facilitate the exchange of hardcopy documents, PDF is the format people use when they need an electronic “hard copy” document.\n",
      "Many business, publishing and records-keeping applications require a reliable, flexible and capable analog for paper.\n",
      "Some love their TIFF files, but those are pictures, not documents.\n",
      "For the vast majority, PDF remains the only game in town.\n",
      "Look around.\n",
      "You may be surprised by how large a proportion of your important (and unimportant) content is in PDF.\n",
      "And don’t just count files, as I’ve done in this survey.\n",
      "Organizations who study their online content are often surprised to find that their PDF files, which may include dozens or hundreds of pages, actually contain far more actual content than their web-pages.\n"
     ]
    }
   ],
   "source": [
    "m = zerowidthsplit(r'(?<=\\.|\\?|\\!)(?=[A-Z]|\\s)', string)\n",
    "for n in m:\n",
    "    print(n.strip(' '))"
   ]
  },
  {
   "cell_type": "markdown",
   "metadata": {},
   "source": [
    "Born before the web to facilitate the exchange of hardcopy documents, PDF is the format people use when they need an electronic “hard copy” document.\n",
    "Many business, publishing and records-keeping applications require a reliable, flexible and capable analog for paper.\n",
    "Some love their TIFF files, but those are pictures, not documents.\n",
    "For the vast majority, PDF remains the only game in town.\n",
    "Look around.\n",
    "You may be surprised by how large a proportion of your important (and unimportant) content is in PDF.\n",
    "And don’t just count files, as I’ve done in this survey.\n",
    "Organizations who study their online content are often surprised to find that their PDF files, which may include dozens or hundreds of pages, actually contain far more actual content than their web-pages."
   ]
  },
  {
   "cell_type": "markdown",
   "metadata": {},
   "source": [
    "### Calculate Perplexity"
   ]
  },
  {
   "cell_type": "markdown",
   "metadata": {},
   "source": [
    "perplexity = 2**cross-entropy"
   ]
  },
  {
   "cell_type": "code",
   "execution_count": 271,
   "metadata": {},
   "outputs": [
    {
     "ename": "SyntaxError",
     "evalue": "can't assign to literal (<ipython-input-271-5d9067707944>, line 1)",
     "output_type": "error",
     "traceback": [
      "\u001b[0;36m  File \u001b[0;32m\"<ipython-input-271-5d9067707944>\"\u001b[0;36m, line \u001b[0;32m1\u001b[0m\n\u001b[0;31m    170 = 2**x\u001b[0m\n\u001b[0m              ^\u001b[0m\n\u001b[0;31mSyntaxError\u001b[0m\u001b[0;31m:\u001b[0m can't assign to literal\n"
     ]
    }
   ],
   "source": [
    "170 = 2**x"
   ]
  },
  {
   "cell_type": "code",
   "execution_count": 272,
   "metadata": {},
   "outputs": [],
   "source": [
    "import math"
   ]
  },
  {
   "cell_type": "code",
   "execution_count": 275,
   "metadata": {},
   "outputs": [],
   "source": [
    "x = math.log(170) / math.log(2)"
   ]
  },
  {
   "cell_type": "code",
   "execution_count": 276,
   "metadata": {},
   "outputs": [
    {
     "data": {
      "text/plain": [
       "7.409390936137703"
      ]
     },
     "execution_count": 276,
     "metadata": {},
     "output_type": "execute_result"
    }
   ],
   "source": [
    "x"
   ]
  },
  {
   "cell_type": "markdown",
   "metadata": {},
   "source": [
    "### Trigrams"
   ]
  },
  {
   "cell_type": "code",
   "execution_count": 316,
   "metadata": {},
   "outputs": [],
   "source": [
    "def file2list(fp):\n",
    "    with open(fp) as f:\n",
    "        list_ = f.readlines()\n",
    "    return(list_)"
   ]
  },
  {
   "cell_type": "code",
   "execution_count": 340,
   "metadata": {},
   "outputs": [],
   "source": [
    "a = file2list('/Users/chughes/Documents/DS/trigram1.txt')"
   ]
  },
  {
   "cell_type": "code",
   "execution_count": 341,
   "metadata": {},
   "outputs": [],
   "source": [
    "if type(list()) == type(a):\n",
    "    a = ' '.join(a)"
   ]
  },
  {
   "cell_type": "code",
   "execution_count": 342,
   "metadata": {},
   "outputs": [],
   "source": [
    "#a = 'I came from the moon. He went to the other room. She went to the drawing room.'"
   ]
  },
  {
   "cell_type": "code",
   "execution_count": 349,
   "metadata": {},
   "outputs": [],
   "source": [
    "text = a.split('.')"
   ]
  },
  {
   "cell_type": "code",
   "execution_count": 354,
   "metadata": {},
   "outputs": [],
   "source": [
    "text = a.split('.')\n",
    "all_tris = []\n",
    "for sent in text:\n",
    "    sent = sent.strip(' ').lower()\n",
    "    words = sent.split(' ')\n",
    "    if len(words) > 2:\n",
    "        for i in range(len(words) - 2):\n",
    "            all_tris.append(words[i] + ' ' + words[i+1] + ' '+ words[i+2])"
   ]
  },
  {
   "cell_type": "code",
   "execution_count": 355,
   "metadata": {},
   "outputs": [
    {
     "data": {
      "text/plain": [
       "['i promised to',\n",
       " 'promised to look',\n",
       " 'to look after',\n",
       " 'look after a',\n",
       " 'after a friends',\n",
       " 'a friends cat']"
      ]
     },
     "execution_count": 355,
     "metadata": {},
     "output_type": "execute_result"
    }
   ],
   "source": [
    "all_tris[:6]"
   ]
  },
  {
   "cell_type": "markdown",
   "metadata": {},
   "source": [
    "Count the amount"
   ]
  },
  {
   "cell_type": "code",
   "execution_count": 356,
   "metadata": {},
   "outputs": [],
   "source": [
    "import pandas as pd"
   ]
  },
  {
   "cell_type": "code",
   "execution_count": 357,
   "metadata": {},
   "outputs": [
    {
     "name": "stdout",
     "output_type": "stream",
     "text": [
      "would be to\n"
     ]
    }
   ],
   "source": [
    "def most_frequent(List): \n",
    "    counter = 0\n",
    "    num = List[0] \n",
    "      \n",
    "    for i in List: \n",
    "        curr_frequency = List.count(i) \n",
    "        if(curr_frequency> counter): \n",
    "            counter = curr_frequency \n",
    "            num = i \n",
    "  \n",
    "    return()"
   ]
  },
  {
   "cell_type": "code",
   "execution_count": null,
   "metadata": {},
   "outputs": [],
   "source": []
  }
 ],
 "metadata": {
  "kernelspec": {
   "display_name": "TA",
   "language": "python",
   "name": "wsata"
  },
  "language_info": {
   "codemirror_mode": {
    "name": "ipython",
    "version": 3
   },
   "file_extension": ".py",
   "mimetype": "text/x-python",
   "name": "python",
   "nbconvert_exporter": "python",
   "pygments_lexer": "ipython3",
   "version": "3.6.7"
  }
 },
 "nbformat": 4,
 "nbformat_minor": 2
}
