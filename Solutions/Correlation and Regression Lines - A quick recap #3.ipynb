{
 "cells": [
  {
   "cell_type": "code",
   "execution_count": 3,
   "metadata": {},
   "outputs": [],
   "source": [
    "import pandas as pd\n",
    "from sklearn.linear_model import LinearRegression"
   ]
  },
  {
   "cell_type": "code",
   "execution_count": 4,
   "metadata": {},
   "outputs": [],
   "source": [
    "data = {'Physics Scores' : [15,12,8,8,7,7,7,6,5,3],\n",
    "\"History Scores\" : [10,25,17,11,13,17,20,13,9,15]}\n",
    "scores = pd.DataFrame(data)"
   ]
  },
  {
   "cell_type": "code",
   "execution_count": 17,
   "metadata": {},
   "outputs": [],
   "source": [
    "def predict_values(data, values):\n",
    "    reg = LinearRegression()\n",
    "    X = data[['Physics Scores']]\n",
    "    y = data[['History Scores']]\n",
    "    reg.fit(X,y)\n",
    "    hist_score = reg.predict(X=[[values]])[0][0]\n",
    "    return(round(hist_score, 1))"
   ]
  },
  {
   "cell_type": "code",
   "execution_count": 18,
   "metadata": {},
   "outputs": [
    {
     "name": "stdout",
     "output_type": "stream",
     "text": [
      "15.5\n"
     ]
    }
   ],
   "source": [
    "if __name__ == '__main__':\n",
    "    print(predict_values(scores, 10))"
   ]
  },
  {
   "cell_type": "code",
   "execution_count": 25,
   "metadata": {},
   "outputs": [
    {
     "name": "stdout",
     "output_type": "stream",
     "text": [
      "15.5\n"
     ]
    }
   ],
   "source": [
    "import pandas as pd\n",
    "from sklearn.linear_model import LinearRegression\n",
    "\n",
    "data = {'Physics Scores' : [15,12,8,8,7,7,7,6,5,3],\n",
    "\"History Scores\" : [10,25,17,11,13,17,20,13,9,15]}\n",
    "scores = pd.DataFrame(data)\n",
    "\n",
    "def predict_values(data, values):\n",
    "    reg = LinearRegression()\n",
    "    X = data[['Physics Scores']]\n",
    "    y = data[['History Scores']]\n",
    "    reg.fit(X,y)\n",
    "    hist_score = reg.predict(X=[[values]])[0][0]\n",
    "    return(round(hist_score, 1))\n",
    "\n",
    "if __name__ == '__main__':\n",
    "    print(predict_values(scores, 10))"
   ]
  },
  {
   "cell_type": "code",
   "execution_count": null,
   "metadata": {},
   "outputs": [],
   "source": []
  }
 ],
 "metadata": {
  "kernelspec": {
   "display_name": "dssb",
   "language": "python",
   "name": "dssb"
  },
  "language_info": {
   "codemirror_mode": {
    "name": "ipython",
    "version": 3
   },
   "file_extension": ".py",
   "mimetype": "text/x-python",
   "name": "python",
   "nbconvert_exporter": "python",
   "pygments_lexer": "ipython3",
   "version": "3.6.8"
  }
 },
 "nbformat": 4,
 "nbformat_minor": 2
}
