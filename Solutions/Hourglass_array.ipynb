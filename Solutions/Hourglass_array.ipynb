{
 "cells": [
  {
   "cell_type": "code",
   "execution_count": 42,
   "metadata": {},
   "outputs": [],
   "source": [
    "def file2list(fp):\n",
    "    with open(fp) as f:\n",
    "        list_ = f.readlines()\n",
    "    cleaned_file = [x.strip('\\n') for x in list_]\n",
    "    cleaned_file = [x.split(' ') for x in cleaned_file]\n",
    "    return(cleaned_file)"
   ]
  },
  {
   "cell_type": "code",
   "execution_count": 43,
   "metadata": {},
   "outputs": [],
   "source": [
    "a = file2list('/Users/chughes/Documents/DS/hourg_t1.txt')"
   ]
  },
  {
   "cell_type": "code",
   "execution_count": 44,
   "metadata": {},
   "outputs": [],
   "source": [
    "max_tots = []\n",
    "def hour_glass_max(array):\n",
    "    len_array = len(array)\n",
    "    elem_array = len(array[0])\n",
    "    for i in range(len_array - 2):\n",
    "        for j in range(elem_array - 2):\n",
    "            hourglass = [array[i][j:j +3], [array[i+1][j+1]],array[i+2][j:j+3]]\n",
    "            hourglass_flat = [int(y) for x in hourglass for y in x]\n",
    "            max_tots.append(sum(hourglass_flat))\n",
    "    return(max_tots)"
   ]
  },
  {
   "cell_type": "code",
   "execution_count": 45,
   "metadata": {},
   "outputs": [
    {
     "data": {
      "text/plain": [
       "-19"
      ]
     },
     "execution_count": 45,
     "metadata": {},
     "output_type": "execute_result"
    }
   ],
   "source": [
    "max(hour_glass_max(a))"
   ]
  },
  {
   "cell_type": "code",
   "execution_count": null,
   "metadata": {},
   "outputs": [],
   "source": []
  }
 ],
 "metadata": {
  "kernelspec": {
   "display_name": "TA",
   "language": "python",
   "name": "wsata"
  },
  "language_info": {
   "codemirror_mode": {
    "name": "ipython",
    "version": 3
   },
   "file_extension": ".py",
   "mimetype": "text/x-python",
   "name": "python",
   "nbconvert_exporter": "python",
   "pygments_lexer": "ipython3",
   "version": "3.6.7"
  }
 },
 "nbformat": 4,
 "nbformat_minor": 2
}
