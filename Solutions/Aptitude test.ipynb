{
 "cells": [
  {
   "cell_type": "code",
   "execution_count": 1,
   "metadata": {},
   "outputs": [],
   "source": [
    "from  scipy.stats import spearmanr\n",
    "import pandas as pd"
   ]
  },
  {
   "cell_type": "code",
   "execution_count": 2,
   "metadata": {},
   "outputs": [],
   "source": [
    "def file2list(fp):\n",
    "    with open(fp) as f:\n",
    "        list_ = f.readlines()\n",
    "    cleaned_file = [x.strip('\\n') for x in list_]\n",
    "    cleaned_file = [x.split(' ') for x in cleaned_file]\n",
    "    return(cleaned_file)"
   ]
  },
  {
   "cell_type": "code",
   "execution_count": 3,
   "metadata": {},
   "outputs": [],
   "source": [
    "a = file2list('/Users/chughes/Documents/DS/apt_test2.txt')"
   ]
  },
  {
   "cell_type": "code",
   "execution_count": 4,
   "metadata": {},
   "outputs": [
    {
     "name": "stderr",
     "output_type": "stream",
     "text": [
      "/anaconda3/envs/dssb/lib/python3.6/site-packages/scipy/stats/stats.py:245: RuntimeWarning: The input array could not be properly checked for nan values. nan values will be ignored.\n",
      "  \"values. nan values will be ignored.\", RuntimeWarning)\n"
     ]
    },
    {
     "name": "stdout",
     "output_type": "stream",
     "text": [
      "1\n",
      "1\n",
      "5\n",
      "4\n",
      "4\n",
      "2\n",
      "3\n",
      "2\n",
      "3\n",
      "2\n"
     ]
    }
   ],
   "source": [
    "nums = int(a[0][0])\n",
    "\n",
    "for i in range(nums):\n",
    "    s = (1 * i)* 7 + 1\n",
    "    f = (1 + i)* 7 + 1\n",
    "    data = pd.DataFrame(a[s+1:f]).transpose()\n",
    "    results = pd.DataFrame(columns=['Col', 'SR'])\n",
    "    for i in range(1,data.shape[1]):\n",
    "        rho, pval = spearmanr(data[0].values, data[i].values)\n",
    "        results = results.append(pd.DataFrame({'Col': i, 'SR': rho}, index=[0]))\n",
    "    results.reset_index(drop=True)\n",
    "    print(results[results['SR'].max() == results['SR']]['Col'].values[0])"
   ]
  },
  {
   "cell_type": "code",
   "execution_count": null,
   "metadata": {},
   "outputs": [],
   "source": []
  }
 ],
 "metadata": {
  "kernelspec": {
   "display_name": "dssb",
   "language": "python",
   "name": "dssb"
  },
  "language_info": {
   "codemirror_mode": {
    "name": "ipython",
    "version": 3
   },
   "file_extension": ".py",
   "mimetype": "text/x-python",
   "name": "python",
   "nbconvert_exporter": "python",
   "pygments_lexer": "ipython3",
   "version": "3.6.8"
  }
 },
 "nbformat": 4,
 "nbformat_minor": 2
}
