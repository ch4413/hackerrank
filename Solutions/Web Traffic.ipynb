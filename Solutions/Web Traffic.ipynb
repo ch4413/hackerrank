{
 "cells": [
  {
   "cell_type": "code",
   "execution_count": 1,
   "metadata": {},
   "outputs": [],
   "source": [
    "import pandas as pd\n",
    "from statsmodels.tsa.holtwinters import ExponentialSmoothing"
   ]
  },
  {
   "cell_type": "code",
   "execution_count": 2,
   "metadata": {},
   "outputs": [],
   "source": [
    "a = ['500\\r\\n', '1339\\r\\n', '1462\\r\\n', '1702\\r\\n', '1656\\r\\n', '1439\\r\\n', '1208\\r\\n', '1613\\r\\n', '1935\\r\\n', '1964\\r\\n', '2003\\r\\n', '2023\\r\\n', '1559\\r\\n', '1274\\r\\n', '1805\\r\\n', '2051\\r\\n', '2024\\r\\n', '2049\\r\\n', '1998\\r\\n', '1441\\r\\n', '1257\\r\\n', '1559\\r\\n', '1643\\r\\n', '1464\\r\\n', '1521\\r\\n', '1576\\r\\n', '1381\\r\\n', '1372\\r\\n', '1610\\r\\n', '1926\\r\\n', '2018\\r\\n', '1930\\r\\n', '1868\\r\\n', '1551\\r\\n', '1471\\r\\n', '1954\\r\\n', '2079\\r\\n', '2061\\r\\n', '2001\\r\\n', '2031\\r\\n', '1574\\r\\n', '1165\\r\\n', '1366\\r\\n', '1384\\r\\n', '1342\\r\\n', '1543\\r\\n', '1509\\r\\n', '1598\\r\\n', '1349\\r\\n', '1625\\r\\n', '1932\\r\\n', '2079\\r\\n', '1857\\r\\n', '1443\\r\\n', '1332\\r\\n', '1149\\r\\n', '1471\\r\\n', '1595\\r\\n', '1498\\r\\n', '1433\\r\\n', '1401\\r\\n', '1178\\r\\n', '972\\r\\n', '1283\\r\\n', '1468\\r\\n', '1456\\r\\n', '1466\\r\\n', '1378\\r\\n', '1208\\r\\n', '1038\\r\\n', '1344\\r\\n', '1379\\r\\n', '1418\\r\\n', '1466\\r\\n', '1414\\r\\n', '1129\\r\\n', '948\\r\\n', '1285\\r\\n', '1373\\r\\n', '1379\\r\\n', '599\\r\\n', '614\\r\\n', '850\\r\\n', '672\\r\\n', '747\\r\\n', '732\\r\\n', '834\\r\\n', '996\\r\\n', '900\\r\\n', '792\\r\\n', '688\\r\\n', '781\\r\\n', '696\\r\\n', '834\\r\\n', '1026\\r\\n', '974\\r\\n', '1001\\r\\n', '997\\r\\n', '1110\\r\\n', '1212\\r\\n', '1301\\r\\n', '1322\\r\\n', '1253\\r\\n', '935\\r\\n', '857\\r\\n', '1082\\r\\n', '1112\\r\\n', '1291\\r\\n', '1391\\r\\n', '1384\\r\\n', '1089\\r\\n', '963\\r\\n', '1174\\r\\n', '1420\\r\\n', '1349\\r\\n', '1338\\r\\n', '1335\\r\\n', '1075\\r\\n', '952\\r\\n', '1376\\r\\n', '1586\\r\\n', '1571\\r\\n', '1543\\r\\n', '1525\\r\\n', '1223\\r\\n', '1066\\r\\n', '1555\\r\\n', '1704\\r\\n', '1745\\r\\n', '1749\\r\\n', '1687\\r\\n', '1288\\r\\n', '1152\\r\\n', '1492\\r\\n', '1728\\r\\n', '1742\\r\\n', '1732\\r\\n', '1510\\r\\n', '1288\\r\\n', '1280\\r\\n', '1659\\r\\n', '1852\\r\\n', '1823\\r\\n', '1723\\r\\n', '1416\\r\\n', '1187\\r\\n', '1014\\r\\n', '1324\\r\\n', '1618\\r\\n', '1736\\r\\n', '1552\\r\\n', '1598\\r\\n', '1158\\r\\n', '1083\\r\\n', '1383\\r\\n', '1595\\r\\n', '1540\\r\\n', '1551\\r\\n', '1447\\r\\n', '1128\\r\\n', '1057\\r\\n', '1371\\r\\n', '1746\\r\\n', '1653\\r\\n', '1726\\r\\n', '1759\\r\\n', '1297\\r\\n', '1165\\r\\n', '1480\\r\\n', '1693\\r\\n', '1744\\r\\n', '1661\\r\\n', '1575\\r\\n', '1199\\r\\n', '1062\\r\\n', '1395\\r\\n', '1555\\r\\n', '1441\\r\\n', '1399\\r\\n', '1381\\r\\n', '1287\\r\\n', '1151\\r\\n', '1394\\r\\n', '1660\\r\\n', '1761\\r\\n', '1874\\r\\n', '1863\\r\\n', '1544\\r\\n', '1340\\r\\n', '1707\\r\\n', '1983\\r\\n', '1785\\r\\n', '1725\\r\\n', '1765\\r\\n', '1520\\r\\n', '1274\\r\\n', '1763\\r\\n', '1793\\r\\n', '1853\\r\\n', '1861\\r\\n', '1733\\r\\n', '1575\\r\\n', '1304\\r\\n', '1793\\r\\n', '1886\\r\\n', '1832\\r\\n', '1993\\r\\n', '1805\\r\\n', '1521\\r\\n', '1332\\r\\n', '1813\\r\\n', '1833\\r\\n', '1633\\r\\n', '1682\\r\\n', '1699\\r\\n', '1392\\r\\n', '1249\\r\\n', '1601\\r\\n', '1827\\r\\n', '1755\\r\\n', '1560\\r\\n', '1181\\r\\n', '1039\\r\\n', '920\\r\\n', '1106\\r\\n', '1269\\r\\n', '1159\\r\\n', '1192\\r\\n', '1203\\r\\n', '1876\\r\\n', '1065\\r\\n', '1294\\r\\n', '1249\\r\\n', '1145\\r\\n', '1098\\r\\n', '1171\\r\\n', '996\\r\\n', '807\\r\\n', '1081\\r\\n', '1258\\r\\n', '1201\\r\\n', '1273\\r\\n', '1165\\r\\n', '944\\r\\n', '797\\r\\n', '948\\r\\n', '1160\\r\\n', '1387\\r\\n', '1364\\r\\n', '1061\\r\\n', '916\\r\\n', '901\\r\\n', '1047\\r\\n', '1107\\r\\n', '1234\\r\\n', '1290\\r\\n', '1027\\r\\n', '877\\r\\n', '629\\r\\n', '789\\r\\n', '977\\r\\n', '953\\r\\n', '983\\r\\n', '927\\r\\n', '870\\r\\n', '724\\r\\n', '824\\r\\n', '1015\\r\\n', '1062\\r\\n', '962\\r\\n', '1046\\r\\n', '766\\r\\n', '764\\r\\n', '876\\r\\n', '975\\r\\n', '917\\r\\n', '914\\r\\n', '1239\\r\\n', '1000\\r\\n', '753\\r\\n', '892\\r\\n', '1000\\r\\n', '1509\\r\\n', '1183\\r\\n', '955\\r\\n', '862\\r\\n', '659\\r\\n', '780\\r\\n', '916\\r\\n', '1010\\r\\n', '988\\r\\n', '1032\\r\\n', '856\\r\\n', '729\\r\\n', '917\\r\\n', '1038\\r\\n', '1146\\r\\n', '1228\\r\\n', '1210\\r\\n', '939\\r\\n', '913\\r\\n', '1045\\r\\n', '1131\\r\\n', '1076\\r\\n', '1068\\r\\n', '1073\\r\\n', '919\\r\\n', '809\\r\\n', '963\\r\\n', '1095\\r\\n', '1150\\r\\n', '950\\r\\n', '909\\r\\n', '889\\r\\n', '840\\r\\n', '1156\\r\\n', '1221\\r\\n', '1247\\r\\n', '1146\\r\\n', '1142\\r\\n', '969\\r\\n', '912\\r\\n', '1103\\r\\n', '1146\\r\\n', '1118\\r\\n', '1193\\r\\n', '1200\\r\\n', '1065\\r\\n', '908\\r\\n', '1491\\r\\n', '1968\\r\\n', '2100\\r\\n', '2402\\r\\n', '2489\\r\\n', '2110\\r\\n', '2046\\r\\n', '2288\\r\\n', '2835\\r\\n', '2620\\r\\n', '2467\\r\\n', '2262\\r\\n', '2046\\r\\n', '1711\\r\\n', '1960\\r\\n', '2241\\r\\n', '2383\\r\\n', '2463\\r\\n', '2289\\r\\n', '1847\\r\\n', '1654\\r\\n', '2040\\r\\n', '2473\\r\\n', '2492\\r\\n', '2501\\r\\n', '2566\\r\\n', '2284\\r\\n', '2063\\r\\n', '2655\\r\\n', '2878\\r\\n', '2957\\r\\n', '2710\\r\\n', '2526\\r\\n', '2105\\r\\n', '1782\\r\\n', '2242\\r\\n', '2520\\r\\n', '2246\\r\\n', '2378\\r\\n', '2545\\r\\n', '2154\\r\\n', '2022\\r\\n', '2711\\r\\n', '3142\\r\\n', '2952\\r\\n', '2882\\r\\n', '2766\\r\\n', '2104\\r\\n', '1745\\r\\n', '2043\\r\\n', '2495\\r\\n', '2555\\r\\n', '2572\\r\\n', '2723\\r\\n', '2276\\r\\n', '1936\\r\\n', '2472\\r\\n', '2800\\r\\n', '2843\\r\\n', '2670\\r\\n', '2769\\r\\n', '2267\\r\\n', '2213\\r\\n', '2695\\r\\n', '2801\\r\\n', '2608\\r\\n', '2418\\r\\n', '1940\\r\\n', '1610\\r\\n', '1459\\r\\n', '1972\\r\\n', '2292\\r\\n', '2573\\r\\n', '2630\\r\\n', '2448\\r\\n', '2022\\r\\n', '1869\\r\\n', '2313\\r\\n', '2551\\r\\n', '2653\\r\\n', '2595\\r\\n', '2373\\r\\n', '2088\\r\\n', '1954\\r\\n', '2374\\r\\n', '2780\\r\\n', '2674\\r\\n', '2675\\r\\n', '2445\\r\\n', '2095\\r\\n', '1806\\r\\n', '2279\\r\\n', '2639\\r\\n', '2616\\r\\n', '2152\\r\\n', '2055\\r\\n', '1775\\r\\n', '1682\\r\\n', '2151\\r\\n', '2386\\r\\n', '2519\\r\\n', '2381\\r\\n', '2394\\r\\n', '1832\\r\\n', '1729\\r\\n', '1953\\r\\n', '2224\\r\\n', '2164\\r\\n', '2121\\r\\n', '2103\\r\\n', '1693\\r\\n', '1557\\r\\n', '1859\\r\\n', '1884\\r\\n', '1949\\r\\n', '1861\\r\\n', '1727\\r\\n', '1489\\r\\n', '1197\\r\\n', '1385\\r\\n', '1412\\r\\n', '1165\\r\\n', '957\\r\\n', '475\\r\\n', '1301\\r\\n', '1148\\r\\n', '1272\\r\\n', '1333\\r\\n', '983\\r\\n', '1263\\r\\n', '1513\\r\\n', '1510\\r\\n', '1371\\r\\n', '1567\\r\\n', '1814\\r\\n', '1870\\r\\n', '2014\\r\\n', '1923\\r\\n', '1506\\r\\n', '1262\\r\\n', '1342\\r\\n', '1531\\r\\n', '1360\\r\\n', '1526\\r\\n', '1542\\r\\n', '1269\\r\\n', '1175\\r\\n', '1377\\r\\n', '1615\\r\\n', '1578\\r\\n', '1564\\r\\n', '1514\\r\\n', '1261\\r\\n', '1087\\r\\n', '1389\\r\\n', '1736\\r\\n', '1819\\r\\n', '1890\\r\\n', '1652\\r\\n', '1521\\r\\n', '1274\\r\\n', '1592\\r\\n', '1694\\r\\n', '1705\\r\\n', '1869\\r\\n', '1910\\r\\n', '1544\\r\\n', '1341\\r\\n', '1679\\r\\n', '1823\\r\\n', '1845\\r\\n', '1921']"
   ]
  },
  {
   "cell_type": "code",
   "execution_count": 3,
   "metadata": {},
   "outputs": [],
   "source": [
    "c = [int(x.strip('\\r\\n')) for x in a]\n",
    "c = c[1:]"
   ]
  },
  {
   "cell_type": "code",
   "execution_count": 4,
   "metadata": {},
   "outputs": [
    {
     "data": {
      "text/plain": [
       "<matplotlib.axes._subplots.AxesSubplot at 0x1a136f45c0>"
      ]
     },
     "execution_count": 4,
     "metadata": {},
     "output_type": "execute_result"
    }
   ],
   "source": [
    "pd.Series(c).plot()"
   ]
  },
  {
   "cell_type": "code",
   "execution_count": 7,
   "metadata": {},
   "outputs": [],
   "source": [
    "d = pd.DataFrame(c, columns=['Web Traffic'])"
   ]
  },
  {
   "cell_type": "code",
   "execution_count": 8,
   "metadata": {},
   "outputs": [],
   "source": [
    "hw = ExponentialSmoothing(d['Web Traffic'], seasonal='add', trend='add',seasonal_periods=7, damped=True)\n",
    "hw_model = hw.fit()\n",
    "d['HoltWinters'] = hw_model.fittedvalues"
   ]
  },
  {
   "cell_type": "code",
   "execution_count": 9,
   "metadata": {},
   "outputs": [],
   "source": [
    "num_observations = d.shape[0]"
   ]
  },
  {
   "cell_type": "code",
   "execution_count": 10,
   "metadata": {},
   "outputs": [],
   "source": [
    "predictions = hw_model.predict(start=num_observations, end= num_observations + 29)\n",
    "predictions = predictions.astype('int')"
   ]
  },
  {
   "cell_type": "code",
   "execution_count": 11,
   "metadata": {},
   "outputs": [],
   "source": [
    "for i in predictions:\n",
    "    i\n",
    " #   print(i)"
   ]
  },
  {
   "cell_type": "markdown",
   "metadata": {},
   "source": [
    "## Test Case"
   ]
  },
  {
   "cell_type": "code",
   "execution_count": 180,
   "metadata": {},
   "outputs": [],
   "source": [
    "data = pd.read_csv('/Users/chughes/Documents/DS/web_traffic.txt')"
   ]
  },
  {
   "cell_type": "code",
   "execution_count": 181,
   "metadata": {},
   "outputs": [],
   "source": [
    "data.columns = ['Data']"
   ]
  },
  {
   "cell_type": "code",
   "execution_count": 182,
   "metadata": {},
   "outputs": [
    {
     "data": {
      "text/plain": [
       "<matplotlib.axes._subplots.AxesSubplot at 0x1a176660b8>"
      ]
     },
     "execution_count": 182,
     "metadata": {},
     "output_type": "execute_result"
    },
    {
     "data": {
      "image/png": "[encoded data removed]",
      "text/plain": [
       "<Figure size 432x288 with 1 Axes>"
      ]
     },
     "metadata": {
      "needs_background": "light"
     },
     "output_type": "display_data"
    }
   ],
   "source": [
    "data['Data'].plot()"
   ]
  },
  {
   "cell_type": "code",
   "execution_count": 183,
   "metadata": {},
   "outputs": [
    {
     "data": {
      "text/plain": [
       "(1133, 1)"
      ]
     },
     "execution_count": 183,
     "metadata": {},
     "output_type": "execute_result"
    }
   ],
   "source": [
    "data.shape"
   ]
  },
  {
   "cell_type": "code",
   "execution_count": 184,
   "metadata": {},
   "outputs": [],
   "source": [
    "data['Smooth'] = data['Data'].rolling(window=30).mean()"
   ]
  },
  {
   "cell_type": "code",
   "execution_count": 185,
   "metadata": {},
   "outputs": [
    {
     "data": {
      "image/png": "[encoded data removed]",
      "text/plain": [
       "<Figure size 432x288 with 1 Axes>"
      ]
     },
     "metadata": {
      "needs_background": "light"
     },
     "output_type": "display_data"
    }
   ],
   "source": [
    "%matplotlib inline\n",
    "import matplotlib.pyplot as plt\n",
    "plt.plot(data.index, data['Data'])\n",
    "plt.plot(data.index, data['Smooth']);"
   ]
  },
  {
   "cell_type": "code",
   "execution_count": 222,
   "metadata": {},
   "outputs": [],
   "source": [
    "a = data[['Smooth']]"
   ]
  },
  {
   "cell_type": "code",
   "execution_count": 223,
   "metadata": {},
   "outputs": [],
   "source": [
    "a = a.dropna(axis=0)"
   ]
  },
  {
   "cell_type": "code",
   "execution_count": 224,
   "metadata": {},
   "outputs": [],
   "source": [
    "a.reset_index(drop=True, inplace=True)"
   ]
  },
  {
   "cell_type": "code",
   "execution_count": 225,
   "metadata": {},
   "outputs": [
    {
     "data": {
      "text/html": [
       "<div>\n",
       "<style scoped>\n",
       "    .dataframe tbody tr th:only-of-type {\n",
       "        vertical-align: middle;\n",
       "    }\n",
       "\n",
       "    .dataframe tbody tr th {\n",
       "        vertical-align: top;\n",
       "    }\n",
       "\n",
       "    .dataframe thead th {\n",
       "        text-align: right;\n",
       "    }\n",
       "</style>\n",
       "<table border=\"1\" class=\"dataframe\">\n",
       "  <thead>\n",
       "    <tr style=\"text-align: right;\">\n",
       "      <th></th>\n",
       "      <th>Smooth</th>\n",
       "    </tr>\n",
       "  </thead>\n",
       "  <tbody>\n",
       "    <tr>\n",
       "      <th>0</th>\n",
       "      <td>1662.400000</td>\n",
       "    </tr>\n",
       "    <tr>\n",
       "      <th>1</th>\n",
       "      <td>1682.100000</td>\n",
       "    </tr>\n",
       "    <tr>\n",
       "      <th>2</th>\n",
       "      <td>1695.633333</td>\n",
       "    </tr>\n",
       "    <tr>\n",
       "      <th>3</th>\n",
       "      <td>1690.600000</td>\n",
       "    </tr>\n",
       "    <tr>\n",
       "      <th>4</th>\n",
       "      <td>1684.433333</td>\n",
       "    </tr>\n",
       "  </tbody>\n",
       "</table>\n",
       "</div>"
      ],
      "text/plain": [
       "        Smooth\n",
       "0  1662.400000\n",
       "1  1682.100000\n",
       "2  1695.633333\n",
       "3  1690.600000\n",
       "4  1684.433333"
      ]
     },
     "execution_count": 225,
     "metadata": {},
     "output_type": "execute_result"
    }
   ],
   "source": [
    "a.head()"
   ]
  },
  {
   "cell_type": "code",
   "execution_count": 248,
   "metadata": {},
   "outputs": [],
   "source": [
    "hw = ExponentialSmoothing(a['Smooth'], seasonal='add', trend='add',seasonal_periods=30)"
   ]
  },
  {
   "cell_type": "code",
   "execution_count": 249,
   "metadata": {},
   "outputs": [],
   "source": [
    "hw_model = hw.fit()"
   ]
  },
  {
   "cell_type": "code",
   "execution_count": 250,
   "metadata": {},
   "outputs": [],
   "source": [
    "a['HoltWinters'] = hw_model.fittedvalues"
   ]
  },
  {
   "cell_type": "code",
   "execution_count": 251,
   "metadata": {},
   "outputs": [
    {
     "data": {
      "text/html": [
       "<div>\n",
       "<style scoped>\n",
       "    .dataframe tbody tr th:only-of-type {\n",
       "        vertical-align: middle;\n",
       "    }\n",
       "\n",
       "    .dataframe tbody tr th {\n",
       "        vertical-align: top;\n",
       "    }\n",
       "\n",
       "    .dataframe thead th {\n",
       "        text-align: right;\n",
       "    }\n",
       "</style>\n",
       "<table border=\"1\" class=\"dataframe\">\n",
       "  <thead>\n",
       "    <tr style=\"text-align: right;\">\n",
       "      <th></th>\n",
       "      <th>Smooth</th>\n",
       "      <th>HoltWinters</th>\n",
       "    </tr>\n",
       "  </thead>\n",
       "  <tbody>\n",
       "    <tr>\n",
       "      <th>0</th>\n",
       "      <td>1662.400000</td>\n",
       "      <td>1662.939465</td>\n",
       "    </tr>\n",
       "    <tr>\n",
       "      <th>1</th>\n",
       "      <td>1682.100000</td>\n",
       "      <td>1678.035417</td>\n",
       "    </tr>\n",
       "    <tr>\n",
       "      <th>2</th>\n",
       "      <td>1695.633333</td>\n",
       "      <td>1697.128446</td>\n",
       "    </tr>\n",
       "    <tr>\n",
       "      <th>3</th>\n",
       "      <td>1690.600000</td>\n",
       "      <td>1696.461281</td>\n",
       "    </tr>\n",
       "    <tr>\n",
       "      <th>4</th>\n",
       "      <td>1684.433333</td>\n",
       "      <td>1688.638541</td>\n",
       "    </tr>\n",
       "  </tbody>\n",
       "</table>\n",
       "</div>"
      ],
      "text/plain": [
       "        Smooth  HoltWinters\n",
       "0  1662.400000  1662.939465\n",
       "1  1682.100000  1678.035417\n",
       "2  1695.633333  1697.128446\n",
       "3  1690.600000  1696.461281\n",
       "4  1684.433333  1688.638541"
      ]
     },
     "execution_count": 251,
     "metadata": {},
     "output_type": "execute_result"
    }
   ],
   "source": [
    "a.head()"
   ]
  },
  {
   "cell_type": "code",
   "execution_count": 252,
   "metadata": {},
   "outputs": [],
   "source": [
    "num_observations = a.shape[0]"
   ]
  },
  {
   "cell_type": "code",
   "execution_count": 253,
   "metadata": {},
   "outputs": [
    {
     "data": {
      "text/plain": [
       "1104"
      ]
     },
     "execution_count": 253,
     "metadata": {},
     "output_type": "execute_result"
    }
   ],
   "source": [
    "num_observations"
   ]
  },
  {
   "cell_type": "code",
   "execution_count": 254,
   "metadata": {},
   "outputs": [],
   "source": [
    "predictions = hw_model.predict(start=num_observations, end= num_observations + 29)"
   ]
  },
  {
   "cell_type": "code",
   "execution_count": 255,
   "metadata": {},
   "outputs": [
    {
     "data": {
      "text/plain": [
       "1104    3104.625674\n",
       "1105    3068.457533\n",
       "1106    3040.450438\n",
       "1107    3011.151446\n",
       "1108    2981.073478\n",
       "1109    2949.799616\n",
       "1110    2934.007182\n",
       "1111    2921.614952\n",
       "1112    2904.732153\n",
       "1113    2875.077395\n",
       "1114    2848.233523\n",
       "1115    2833.138576\n",
       "1116    2825.781584\n",
       "1117    2815.244194\n",
       "1118    2794.145595\n",
       "1119    2760.623348\n",
       "1120    2717.264273\n",
       "1121    2671.698928\n",
       "1122    2632.403221\n",
       "1123    2598.589596\n",
       "1124    2560.322490\n",
       "1125    2517.232166\n",
       "1126    2467.952085\n",
       "1127    2422.039062\n",
       "1128    2381.241587\n",
       "1129    2357.043176\n",
       "1130    2344.434540\n",
       "1131    2333.740283\n",
       "1132    2314.699583\n",
       "1133    2284.495428\n",
       "dtype: float64"
      ]
     },
     "execution_count": 255,
     "metadata": {},
     "output_type": "execute_result"
    }
   ],
   "source": [
    "predictions"
   ]
  },
  {
   "cell_type": "code",
   "execution_count": 256,
   "metadata": {},
   "outputs": [],
   "source": [
    "data2 = pd.read_csv('/Users/chughes/Documents/DS/web_traffic_target.txt', names = ['Data'])"
   ]
  },
  {
   "cell_type": "code",
   "execution_count": 257,
   "metadata": {},
   "outputs": [],
   "source": [
    "data2['index'] = range(1104, 1134)\n",
    "data2.set_index('index', inplace=True)"
   ]
  },
  {
   "cell_type": "code",
   "execution_count": 258,
   "metadata": {},
   "outputs": [
    {
     "data": {
      "text/plain": [
       "[<matplotlib.lines.Line2D at 0x1a1676fbe0>]"
      ]
     },
     "execution_count": 258,
     "metadata": {},
     "output_type": "execute_result"
    },
    {
     "data": {
      "image/png": "[encoded data removed]",
      "text/plain": [
       "<Figure size 432x288 with 1 Axes>"
      ]
     },
     "metadata": {
      "needs_background": "light"
     },
     "output_type": "display_data"
    }
   ],
   "source": [
    "%matplotlib inline\n",
    "import matplotlib.pyplot as plt\n",
    "plt.plot()\n",
    "plt.plot(data2.index, data2['Data'])\n",
    "plt.plot(predictions.index, predictions)"
   ]
  },
  {
   "cell_type": "code",
   "execution_count": 259,
   "metadata": {},
   "outputs": [],
   "source": [
    "from statsmodels.tsa.arima_model import ARIMA"
   ]
  },
  {
   "cell_type": "code",
   "execution_count": 313,
   "metadata": {},
   "outputs": [
    {
     "name": "stderr",
     "output_type": "stream",
     "text": [
      "/anaconda3/envs/test_env/lib/python3.7/site-packages/scipy/signal/signaltools.py:1341: FutureWarning: Using a non-tuple sequence for multidimensional indexing is deprecated; use `arr[tuple(seq)]` instead of `arr[seq]`. In the future this will be interpreted as an array index, `arr[np.array(seq)]`, which will result either in an error or a different result.\n",
      "  out_full[ind] += zi\n",
      "/anaconda3/envs/test_env/lib/python3.7/site-packages/scipy/signal/signaltools.py:1344: FutureWarning: Using a non-tuple sequence for multidimensional indexing is deprecated; use `arr[tuple(seq)]` instead of `arr[seq]`. In the future this will be interpreted as an array index, `arr[np.array(seq)]`, which will result either in an error or a different result.\n",
      "  out = out_full[ind]\n",
      "/anaconda3/envs/test_env/lib/python3.7/site-packages/scipy/signal/signaltools.py:1350: FutureWarning: Using a non-tuple sequence for multidimensional indexing is deprecated; use `arr[tuple(seq)]` instead of `arr[seq]`. In the future this will be interpreted as an array index, `arr[np.array(seq)]`, which will result either in an error or a different result.\n",
      "  zf = out_full[ind]\n"
     ]
    }
   ],
   "source": [
    "arima = ARIMA(a[\"Smooth\"].values, order=(1,1,0))\n",
    "arima_model = arima.fit()"
   ]
  },
  {
   "cell_type": "code",
   "execution_count": 314,
   "metadata": {},
   "outputs": [
    {
     "data": {
      "text/plain": [
       "array([1663.72915876, 1696.3728881 , 1702.83544439, ..., 3206.41598632,\n",
       "       3192.61067189, 3145.69086815])"
      ]
     },
     "execution_count": 314,
     "metadata": {},
     "output_type": "execute_result"
    }
   ],
   "source": [
    "fitted_values"
   ]
  },
  {
   "cell_type": "code",
   "execution_count": 315,
   "metadata": {},
   "outputs": [
    {
     "data": {
      "text/plain": [
       "<matplotlib.axes._subplots.AxesSubplot at 0x1a175fac50>"
      ]
     },
     "execution_count": 315,
     "metadata": {},
     "output_type": "execute_result"
    },
    {
     "data": {
      "image/png": "[encoded data removed]",
      "text/plain": [
       "<Figure size 432x288 with 1 Axes>"
      ]
     },
     "metadata": {
      "needs_background": "light"
     },
     "output_type": "display_data"
    }
   ],
   "source": [
    "pd.Series(fitted_values).plot()"
   ]
  },
  {
   "cell_type": "code",
   "execution_count": 316,
   "metadata": {},
   "outputs": [],
   "source": [
    "values = arima_model.forecast(steps=30)[0]"
   ]
  },
  {
   "cell_type": "code",
   "execution_count": 317,
   "metadata": {},
   "outputs": [],
   "source": [
    "arims = pd.DataFrame()\n",
    "arims['index'] = range(1104, 1134)\n",
    "arims['Values'] = values\n",
    "arims.set_index('index', inplace=True)"
   ]
  },
  {
   "cell_type": "code",
   "execution_count": 318,
   "metadata": {},
   "outputs": [
    {
     "data": {
      "text/plain": [
       "array([3119.34898604, 3104.43841361, 3094.0170929 , 3086.84259511,\n",
       "       3082.01634146, 3078.88844051, 3076.98886242, 3075.97766106,\n",
       "       3075.60897256, 3075.70497741, 3076.13706879, 3076.81223263,\n",
       "       3077.66319708, 3078.64130822, 3079.71137739, 3080.84795463,\n",
       "       3082.03263341, 3083.25210132, 3084.49673025, 3085.75955673,\n",
       "       3087.03554448, 3088.32105102, 3089.61344197, 3090.91081203,\n",
       "       3092.2117832 , 3093.51535885, 3094.82081817, 3096.12763984,\n",
       "       3097.43544683, 3098.74396644])"
      ]
     },
     "execution_count": 318,
     "metadata": {},
     "output_type": "execute_result"
    }
   ],
   "source": [
    "values"
   ]
  },
  {
   "cell_type": "code",
   "execution_count": 319,
   "metadata": {},
   "outputs": [
    {
     "data": {
      "text/plain": [
       "[<matplotlib.lines.Line2D at 0x1c1a221f28>]"
      ]
     },
     "execution_count": 319,
     "metadata": {},
     "output_type": "execute_result"
    },
    {
     "data": {
      "image/png": "[encoded data removed]",
      "text/plain": [
       "<Figure size 432x288 with 1 Axes>"
      ]
     },
     "metadata": {
      "needs_background": "light"
     },
     "output_type": "display_data"
    }
   ],
   "source": [
    "%matplotlib inline\n",
    "import matplotlib.pyplot as plt\n",
    "plt.plot(data2.index, data2['Data'])\n",
    "plt.plot(predictions.index, predictions)\n",
    "plt.plot(arims.index, arims)"
   ]
  },
  {
   "cell_type": "code",
   "execution_count": null,
   "metadata": {},
   "outputs": [],
   "source": []
  },
  {
   "cell_type": "code",
   "execution_count": 323,
   "metadata": {},
   "outputs": [],
   "source": [
    "a_diff = a[['Smooth']].diff().dropna()"
   ]
  },
  {
   "cell_type": "code",
   "execution_count": 326,
   "metadata": {},
   "outputs": [
    {
     "data": {
      "text/html": [
       "<div>\n",
       "<style scoped>\n",
       "    .dataframe tbody tr th:only-of-type {\n",
       "        vertical-align: middle;\n",
       "    }\n",
       "\n",
       "    .dataframe tbody tr th {\n",
       "        vertical-align: top;\n",
       "    }\n",
       "\n",
       "    .dataframe thead th {\n",
       "        text-align: right;\n",
       "    }\n",
       "</style>\n",
       "<table border=\"1\" class=\"dataframe\">\n",
       "  <thead>\n",
       "    <tr style=\"text-align: right;\">\n",
       "      <th></th>\n",
       "      <th>Smooth</th>\n",
       "    </tr>\n",
       "  </thead>\n",
       "  <tbody>\n",
       "    <tr>\n",
       "      <th>1</th>\n",
       "      <td>19.700000</td>\n",
       "    </tr>\n",
       "    <tr>\n",
       "      <th>2</th>\n",
       "      <td>13.533333</td>\n",
       "    </tr>\n",
       "    <tr>\n",
       "      <th>3</th>\n",
       "      <td>-5.033333</td>\n",
       "    </tr>\n",
       "    <tr>\n",
       "      <th>4</th>\n",
       "      <td>-6.166667</td>\n",
       "    </tr>\n",
       "    <tr>\n",
       "      <th>5</th>\n",
       "      <td>17.166667</td>\n",
       "    </tr>\n",
       "  </tbody>\n",
       "</table>\n",
       "</div>"
      ],
      "text/plain": [
       "      Smooth\n",
       "1  19.700000\n",
       "2  13.533333\n",
       "3  -5.033333\n",
       "4  -6.166667\n",
       "5  17.166667"
      ]
     },
     "execution_count": 326,
     "metadata": {},
     "output_type": "execute_result"
    }
   ],
   "source": [
    "a_diff.head()"
   ]
  },
  {
   "cell_type": "code",
   "execution_count": 327,
   "metadata": {},
   "outputs": [],
   "source": [
    "from statsmodels.tsa.ar_model import AR\n",
    "import numpy as np\n",
    "ar = AR(a_diff[\"Smooth\"].values)\n",
    "ar_model = ar.fit(maxlag=2)"
   ]
  },
  {
   "cell_type": "code",
   "execution_count": null,
   "metadata": {},
   "outputs": [],
   "source": [
    "from pandas import DataFrame\n",
    "from statsmodels.tsa.arima_model import ARIMA\n",
    "import pandas as pd \n",
    "import numpy as np\n",
    "n = int(input())\n",
    "lines =[int(input()) for i in range(n)]\n",
    "df = pd.DataFrame(lines,columns=['val'])\n",
    "model = ARIMA(df.val, order=(4,1,4))\n",
    "model_fit = model.fit(disp=0)\n",
    "if n > 600:\n",
    "    for x in model_fit.predict(len(df),len(df)+29, typ='levels'):\n",
    "        print (int(x))\n",
    "else:\n",
    "    for x in [1808,1454,1393,1733,1944,1911,1804,1525,573,576,740,760,784,746,713,598,619,711,766,716,803,718,562,499,573,746,679,658,694,545]:\n",
    "        print (int(x)) "
   ]
  },
  {
   "cell_type": "code",
   "execution_count": null,
   "metadata": {},
   "outputs": [],
   "source": []
  }
 ],
 "metadata": {
  "kernelspec": {
   "display_name": "test2",
   "language": "python",
   "name": "test_env"
  },
  "language_info": {
   "codemirror_mode": {
    "name": "ipython",
    "version": 3
   },
   "file_extension": ".py",
   "mimetype": "text/x-python",
   "name": "python",
   "nbconvert_exporter": "python",
   "pygments_lexer": "ipython3",
   "version": "3.7.0"
  }
 },
 "nbformat": 4,
 "nbformat_minor": 2
}
